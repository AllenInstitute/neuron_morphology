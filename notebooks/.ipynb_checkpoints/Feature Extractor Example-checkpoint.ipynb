{
 "cells": [
  {
   "cell_type": "code",
   "execution_count": 4,
   "metadata": {},
   "outputs": [],
   "source": [
    "from neuron_morphology.feature_extractor.data import Data\n",
    "\n",
    "from neuron_morphology.feature_extractor.feature_extractor import FeatureExtractor\n",
    "from neuron_morphology.features import dimension, intrinsic\n",
    "from tests.objects import test_morphology_large\n",
    "\n",
    "\n"
   ]
  },
  {
   "cell_type": "markdown",
   "metadata": {},
   "source": [
    "### Create Marked Functions from imports"
   ]
  },
  {
   "cell_type": "code",
   "execution_count": 5,
   "metadata": {},
   "outputs": [],
   "source": [
    "from neuron_morphology.feature_extractor.data import Data\n",
    "from neuron_morphology.feature_extractor.marked_feature import marked\n",
    "from neuron_morphology.feature_extractor.mark import (\n",
    "    RequiresLayerAnnotations, Intrinsic, Geometric, AllNeuriteTypes,\n",
    "    RequiresSoma)\n",
    "\n",
    "# Mark the preexisting calculate_dimension_features_for_all_types function\n",
    "from neuron_morphology.features import dimension\n",
    "@marked(AllNeuriteTypes)\n",
    "@marked(Geometric)\n",
    "def dimension_features(data: Data):\n",
    "    return dimension.calculate_dimension_features_for_all_types(data.morphology)\n",
    "\n",
    "# Mark the preexisting calculate_intrinsic_features_for_all_types function\n",
    "from neuron_morphology.features import intrinsic\n",
    "@marked(AllNeuriteTypes)\n",
    "@marked(Intrinsic)\n",
    "def intrinsic_features(data: Data):\n",
    "    return intrinsic.calculate_intrinsic_features_for_all_types(data.morphology)\n",
    "\n",
    "# Create a new feature function\n",
    "@marked(RequiresSoma)\n",
    "@marked(Geometric)\n",
    "def example_soma_features(data: Data):\n",
    "    soma_node = data.morphology.get_root()\n",
    "    features = {'soma': {'x': soma_node['x'],\n",
    "                         'y': soma_node['y'],\n",
    "                         'z': soma_node['z']}}\n",
    "    return features"
   ]
  },
  {
   "cell_type": "markdown",
   "metadata": {},
   "source": [
    "### Build a Feature Extractor from those marked functions"
   ]
  },
  {
   "cell_type": "code",
   "execution_count": 9,
   "metadata": {},
   "outputs": [],
   "source": [
    "from neuron_morphology.feature_extractor.feature_extractor import FeatureExtractor\n",
    "\n",
    "# Add features One by one\n",
    "fe = FeatureExtractor()\n",
    "fe.register_features([dimension_features])\n",
    "fe.register_features([intrinsic_features])\n",
    "fe.register_features([example_soma_features])\n",
    "\n",
    "# or All at once: \n",
    "#fe = FeatureExtractor((dimension_features, intrinsic_features, example_soma_features))"
   ]
  },
  {
   "cell_type": "markdown",
   "metadata": {},
   "source": [
    "### Import some data"
   ]
  },
  {
   "cell_type": "code",
   "execution_count": 10,
   "metadata": {},
   "outputs": [],
   "source": [
    "from tests.objects import test_morphology_large\n",
    "data = Data(test_morphology_large()) \n"
   ]
  },
  {
   "cell_type": "markdown",
   "metadata": {},
   "source": [
    "### Run the feature extractor on the data"
   ]
  },
  {
   "cell_type": "code",
   "execution_count": 11,
   "metadata": {},
   "outputs": [],
   "source": [
    "feature_extraction_run = fe.extract(data)\n",
    "results = feature_extraction_run.results"
   ]
  },
  {
   "cell_type": "markdown",
   "metadata": {},
   "source": [
    "### Check the results"
   ]
  },
  {
   "cell_type": "code",
   "execution_count": 12,
   "metadata": {},
   "outputs": [
    {
     "data": {
      "text/plain": [
       "{'intrinsic_features': {'all_neurites': {'num_branches': 3,\n",
       "   'max_branch_order': 0,\n",
       "   'mean_fragmentation': nan,\n",
       "   'num_tips': 3,\n",
       "   'num_nodes': 17},\n",
       "  'axon': {'num_branches': 1,\n",
       "   'max_branch_order': 0,\n",
       "   'mean_fragmentation': nan,\n",
       "   'num_tips': 1,\n",
       "   'num_nodes': 6},\n",
       "  'basal_dendrite': {'num_branches': 1,\n",
       "   'max_branch_order': 0,\n",
       "   'mean_fragmentation': nan,\n",
       "   'num_tips': 1,\n",
       "   'num_nodes': 4},\n",
       "  'apical_dendrite': {'num_branches': 1,\n",
       "   'max_branch_order': 0,\n",
       "   'mean_fragmentation': nan,\n",
       "   'num_tips': 1,\n",
       "   'num_nodes': 6}},\n",
       " 'example_soma_features': {'soma': {'x': 800, 'y': 610, 'z': 30}},\n",
       " 'dimension_features': {'all_neurites': {'width': 650,\n",
       "   'height': 450,\n",
       "   'depth': 70,\n",
       "   'min_x': 400,\n",
       "   'min_y': 300,\n",
       "   'min_z': 10,\n",
       "   'max_x': 1050,\n",
       "   'max_y': 750,\n",
       "   'max_z': 80},\n",
       "  'axon': {'width': 150,\n",
       "   'height': 150,\n",
       "   'depth': 50,\n",
       "   'min_x': 900,\n",
       "   'min_y': 600,\n",
       "   'min_z': 30,\n",
       "   'max_x': 1050,\n",
       "   'max_y': 750,\n",
       "   'max_z': 80},\n",
       "  'basal_dendrite': {'width': 90,\n",
       "   'height': 90,\n",
       "   'depth': 30,\n",
       "   'min_x': 400,\n",
       "   'min_y': 600,\n",
       "   'min_z': 10,\n",
       "   'max_x': 490,\n",
       "   'max_y': 690,\n",
       "   'max_z': 40},\n",
       "  'apical_dendrite': {'width': 140,\n",
       "   'height': 150,\n",
       "   'depth': 50,\n",
       "   'min_x': 600,\n",
       "   'min_y': 300,\n",
       "   'min_z': 20,\n",
       "   'max_x': 740,\n",
       "   'max_y': 450,\n",
       "   'max_z': 70}}}"
      ]
     },
     "execution_count": 12,
     "metadata": {},
     "output_type": "execute_result"
    }
   ],
   "source": [
    "results"
   ]
  },
  {
   "cell_type": "code",
   "execution_count": null,
   "metadata": {},
   "outputs": [],
   "source": []
  }
 ],
 "metadata": {
  "kernelspec": {
   "display_name": "Python [conda env:allensdk_neuro_py36_dev] *",
   "language": "python",
   "name": "conda-env-allensdk_neuro_py36_dev-py"
  },
  "language_info": {
   "codemirror_mode": {
    "name": "ipython",
    "version": 3
   },
   "file_extension": ".py",
   "mimetype": "text/x-python",
   "name": "python",
   "nbconvert_exporter": "python",
   "pygments_lexer": "ipython3",
   "version": "3.6.9"
  }
 },
 "nbformat": 4,
 "nbformat_minor": 2
}
