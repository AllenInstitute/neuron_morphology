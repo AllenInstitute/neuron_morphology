{
 "cells": [
  {
   "cell_type": "markdown",
   "metadata": {},
   "source": [
    "# Notebook for demo how to get features with [neuron_morphology](https://github.com/AllenInstitute/neuron_morphology)\n",
    "\n",
    "To obtain the package, please see [https://neuron-morphology.readthedocs.io/en/readthedocs/](https://neuron-morphology.readthedocs.io/en/readthedocs/).\n",
    "\n",
    "This step-by-step guid will walk you through the whole process of getting the interested features with neuron_morphology.\n"
   ]
  },
  {
   "cell_type": "code",
   "execution_count": 1,
   "metadata": {},
   "outputs": [],
   "source": [
    "import sys\n",
    "sys.path.insert(0, \"../\")\n",
    "\n",
    "from io import StringIO\n",
    "import copy\n",
    "import matplotlib.pyplot as plt\n",
    "\n",
    "import neuron_morphology.swc_io as swcio\n",
    "from neuron_morphology.morphology import Morphology\n",
    "from neuron_morphology.swc_io import morphology_from_swc\n",
    "from neuron_morphology.feature_extractor.data import Data\n",
    "from neuron_morphology.feature_extractor.feature_extractor import FeatureExtractor\n",
    "from neuron_morphology.features.default_features import default_features\n",
    "from neuron_morphology.features.dimension import dimension\n",
    "from neuron_morphology.features.soma import calculate_number_of_stems\n",
    "from neuron_morphology.features.path import max_path_distance\n",
    "from neuron_morphology.constants import (\n",
    "    SOMA, AXON, BASAL_DENDRITE, APICAL_DENDRITE\n",
    ")\n",
    "\n",
    "import json\n",
    "import numpy as np\n",
    "import neuron_morphology.feature_extractor.feature_writer as fw"
   ]
  },
  {
   "cell_type": "markdown",
   "metadata": {},
   "source": [
    "## Pick your neuron (.swc/.csv)\n",
    "\n",
    "Here select one SWC file as an example."
   ]
  },
  {
   "cell_type": "code",
   "execution_count": 2,
   "metadata": {},
   "outputs": [],
   "source": [
    "fmost_swc_file = \"../tests/data/17545-6151-X24259-Y36270.swc\""
   ]
  },
  {
   "cell_type": "markdown",
   "metadata": {},
   "source": [
    "## Ensure one SWC with only one soma point\n",
    "\n",
    "This is developed for current registered fMOST SWC file. It will adjusted and added as a module into neuron_morphology later."
   ]
  },
  {
   "cell_type": "code",
   "execution_count": 3,
   "metadata": {
    "scrolled": true
   },
   "outputs": [],
   "source": [
    "def prepare_neuron_tree(swc_data):\n",
    "    nodes = swc_data.to_dict('record')\n",
    "\n",
    "    replace_type = 2 # default node type\n",
    "    for node in nodes:\n",
    "        node['parent'] = int(node['parent'])\n",
    "        node['id'] = int(node['id'])\n",
    "        node['type'] = int(node['type'])\n",
    "\n",
    "        if node['parent'] == -1 and node['type'] != 1:\n",
    "            replace_type = node['type']\n",
    "\n",
    "        if node['type'] == 1 and node['parent'] != -1:\n",
    "            node['type'] = replace_type\n",
    "\n",
    "    soma_list = []\n",
    "    for node in nodes:\n",
    "        if node['type'] == 1:\n",
    "            soma_list.append(node)\n",
    "\n",
    "    # create a new soma point\n",
    "    if len(soma_list) > 1:\n",
    "        x = 0\n",
    "        y = 0\n",
    "        z = 0\n",
    "        n = len(soma_list)\n",
    "        for node in soma_list:\n",
    "            x += node['x']\n",
    "            y += node['y']\n",
    "            z += node['z']\n",
    "\n",
    "        soma = copy.deepcopy(soma_list[0])\n",
    "        soma['id'] = nodes[-1]['id']\n",
    "        soma['x'] = x/n\n",
    "        soma['y'] = y/n\n",
    "        soma['z'] = z/n\n",
    "        nodes.append(soma)\n",
    "\n",
    "        for node in soma_list:\n",
    "            node['parent'] = soma['id']\n",
    "            node['type'] = replace_type\n",
    "    \n",
    "    return nodes"
   ]
  },
  {
   "cell_type": "markdown",
   "metadata": {},
   "source": [
    "## Load SWC file as morphology data\n",
    "\n",
    "We can load the SWC file into our morphology data object and then calculate features on it."
   ]
  },
  {
   "cell_type": "code",
   "execution_count": 4,
   "metadata": {},
   "outputs": [
    {
     "data": {
      "text/plain": [
       "Text(0.5, 1.0, 'z-y view')"
      ]
     },
     "execution_count": 4,
     "metadata": {},
     "output_type": "execute_result"
    },
    {
     "data": {
      "image/png": "[encoded data removed]",
      "text/plain": [
       "<Figure size 432x288 with 2 Axes>"
      ]
     },
     "metadata": {
      "needs_background": "light"
     },
     "output_type": "display_data"
    }
   ],
   "source": [
    "# load\n",
    "swc_data = swcio.read_swc(fmost_swc_file)\n",
    "\n",
    "nodes = prepare_neuron_tree(swc_data)\n",
    "test_data = Data(Morphology(nodes, node_id_cb=lambda node: node['id'], parent_id_cb=lambda node: node['parent']))\n",
    "\n",
    "# visualize\n",
    "x = [node['x'] for node in nodes]\n",
    "y = [node['y'] for node in nodes]\n",
    "z = [node['z'] for node in nodes]\n",
    "\n",
    "fig, ax = plt.subplots(1, 2)\n",
    "ax[0].scatter(x, y, s=0.1)\n",
    "ax[0].set_title('x-y view')\n",
    "ax[1].scatter(z, y, s=0.1)\n",
    "ax[1].set_title('z-y view')"
   ]
  },
  {
   "cell_type": "markdown",
   "metadata": {},
   "source": [
    "## Define interested features set\n",
    "\n",
    "For fMOST neuron analysis, we are interested in the following features:\n",
    "\n",
    "```\n",
    "Number of Stems: (Dendrite)\n",
    "Overall Width: (Dendrite and Axon)\n",
    "Overall Height: (Dendrite and Axon)\n",
    "Overall Depth: (Dendrite and Axon)\n",
    "Total Length: (Dendrite and Axon)\n",
    "MaxEuclidean Distance: (Dendrite, Axon, Local Axon?)\n",
    "Max Path Distance: (Dendrite and Axon)\n",
    "Number of Branches: (Dendrite, Axon, Local Axon?)\n",
    "Max Branch Order: (Dendrite)\n",
    "Depth-Width Ratio: (Dendrite)\n",
    "```\n"
   ]
  },
  {
   "cell_type": "code",
   "execution_count": 5,
   "metadata": {},
   "outputs": [],
   "source": [
    "fe = FeatureExtractor()\n",
    "\n",
    "for feature in default_features:\n",
    "    fe.register_features([feature])"
   ]
  },
  {
   "cell_type": "markdown",
   "metadata": {},
   "source": [
    "### Extracting features"
   ]
  },
  {
   "cell_type": "code",
   "execution_count": 6,
   "metadata": {},
   "outputs": [
    {
     "name": "stderr",
     "output_type": "stream",
     "text": [
      "2020-02-24 17:53:01,732 root         INFO     skipping mark (validation failed): type\n",
      "2020-02-24 17:53:01,735 root         INFO     skipping mark (validation failed): type\n",
      "2020-02-24 17:53:01,737 root         INFO     skipping mark (validation failed): type\n",
      "../neuron_morphology/feature_extractor/mark.py:118: UserWarning: This morphology is not uniquely rooted! Found 279 root nodes. Features using the root node of this morphology may not select that node consistently. Some or all of these root nodes may not be soma nodes.\n",
      "  f\"This morphology is not uniquely rooted! Found {num_roots} \"\n",
      "2020-02-24 17:53:01,753 root         INFO     selected marks: <bound method FeatureExtractionRun.select_marks of <neuron_morphology.feature_extractor.feature_extraction_run.FeatureExtractionRun object at 0x7f67cc6575c0>>\n",
      "2020-02-24 17:53:01,756 root         INFO     skipping feature: apical_dendrite.bifurcation.dimension. Found extra marks: ['RequiresApical']\n",
      "2020-02-24 17:53:01,758 root         INFO     skipping feature: apical_dendrite.node.dimension. Found extra marks: ['RequiresApical']\n",
      "2020-02-24 17:53:01,760 root         INFO     skipping feature: apical_dendrite.tip.dimension. Found extra marks: ['RequiresApical']\n",
      "2020-02-24 17:53:01,762 root         INFO     skipping feature: apical_dendrite.compartment.dimension. Found extra marks: ['RequiresApical']\n",
      "2020-02-24 17:53:01,764 root         INFO     skipping feature: apical_dendrite.num_nodes. Found extra marks: ['RequiresApical']\n",
      "2020-02-24 17:53:01,766 root         INFO     skipping feature: apical_dendrite.num_branches. Found extra marks: ['RequiresApical']\n",
      "2020-02-24 17:53:01,768 root         INFO     skipping feature: apical_dendrite.num_tips. Found extra marks: ['RequiresApical']\n",
      "2020-02-24 17:53:01,770 root         INFO     skipping feature: apical_dendrite.mean_fragmentation. Found extra marks: ['RequiresApical']\n",
      "2020-02-24 17:53:01,772 root         INFO     skipping feature: apical_dendrite.max_branch_order. Found extra marks: ['RequiresApical']\n",
      "2020-02-24 17:53:01,775 root         INFO     skipping feature: apical_dendrite.num_outer_bifurcations. Found extra marks: ['RequiresApical']\n",
      "2020-02-24 17:53:01,777 root         INFO     skipping feature: apical_dendrite.total_length. Found extra marks: ['RequiresApical']\n",
      "2020-02-24 17:53:01,779 root         INFO     skipping feature: apical_dendrite.total_surface_area. Found extra marks: ['RequiresApical']\n",
      "2020-02-24 17:53:01,781 root         INFO     skipping feature: apical_dendrite.total_volume. Found extra marks: ['RequiresApical']\n",
      "2020-02-24 17:53:01,783 root         INFO     skipping feature: apical_dendrite.mean_diameter. Found extra marks: ['RequiresApical']\n",
      "2020-02-24 17:53:01,785 root         INFO     skipping feature: apical_dendrite.mean_parent_daughter_ratio. Found extra marks: ['RequiresApical']\n",
      "2020-02-24 17:53:01,787 root         INFO     skipping feature: apical_dendrite.max_euclidean_distance. Found extra marks: ['RequiresApical']\n",
      "2020-02-24 17:53:01,789 root         INFO     skipping feature: apical_dendrite.apical_dendrite.overlap. Found extra marks: ['RequiresApical']\n",
      "2020-02-24 17:53:01,791 root         INFO     skipping feature: dendrite.apical_dendrite.overlap. Found extra marks: ['RequiresApical']\n",
      "2020-02-24 17:53:01,794 root         INFO     skipping feature: basal_dendrite.apical_dendrite.overlap. Found extra marks: ['RequiresApical']\n",
      "2020-02-24 17:53:01,795 root         INFO     skipping feature: axon.apical_dendrite.overlap. Found extra marks: ['RequiresApical']\n",
      "2020-02-24 17:53:01,797 root         INFO     skipping feature: apical_dendrite.dendrite.overlap. Found extra marks: ['RequiresApical']\n",
      "2020-02-24 17:53:01,800 root         INFO     skipping feature: apical_dendrite.axon.overlap. Found extra marks: ['RequiresApical']\n",
      "2020-02-24 17:53:01,802 root         INFO     skipping feature: apical_dendrite.basal_dendrite.overlap. Found extra marks: ['RequiresApical']\n",
      "2020-02-24 17:53:01,804 root         INFO     skipping feature: apical_dendrite.bifurcation.moments. Found extra marks: ['RequiresApical']\n",
      "2020-02-24 17:53:01,806 root         INFO     skipping feature: apical_dendrite.node.moments. Found extra marks: ['RequiresApical']\n",
      "2020-02-24 17:53:01,808 root         INFO     skipping feature: apical_dendrite.tip.moments. Found extra marks: ['RequiresApical']\n",
      "2020-02-24 17:53:01,809 root         INFO     skipping feature: apical_dendrite.compartment.moments. Found extra marks: ['RequiresApical']\n",
      "2020-02-24 17:53:01,811 root         INFO     skipping feature: dendrite.normalized_depth_histogram. Found extra marks: ['RequiresReferenceLayerDepths', 'RequiresLayeredPointDepths']\n",
      "2020-02-24 17:53:01,813 root         INFO     skipping feature: basal_dendrite.normalized_depth_histogram. Found extra marks: ['RequiresReferenceLayerDepths', 'RequiresLayeredPointDepths']\n",
      "2020-02-24 17:53:01,815 root         INFO     skipping feature: apical_dendrite.normalized_depth_histogram. Found extra marks: ['RequiresReferenceLayerDepths', 'RequiresLayeredPointDepths', 'RequiresApical']\n",
      "2020-02-24 17:53:01,816 root         INFO     skipping feature: all_neurites.normalized_depth_histogram. Found extra marks: ['RequiresReferenceLayerDepths', 'RequiresLayeredPointDepths']\n",
      "2020-02-24 17:53:01,818 root         INFO     skipping feature: axon.normalized_depth_histogram. Found extra marks: ['RequiresReferenceLayerDepths', 'RequiresLayeredPointDepths']\n",
      "2020-02-24 17:53:01,820 root         INFO     skipping feature: apical_dendrite.apical_dendrite.earth_movers_distance. Found extra marks: ['RequiresReferenceLayerDepths', 'RequiresLayeredPointDepths', 'RequiresApical']\n",
      "2020-02-24 17:53:01,821 root         INFO     skipping feature: dendrite.apical_dendrite.earth_movers_distance. Found extra marks: ['RequiresReferenceLayerDepths', 'RequiresLayeredPointDepths', 'RequiresApical']\n",
      "2020-02-24 17:53:01,823 root         INFO     skipping feature: basal_dendrite.apical_dendrite.earth_movers_distance. Found extra marks: ['RequiresReferenceLayerDepths', 'RequiresLayeredPointDepths', 'RequiresApical']\n",
      "2020-02-24 17:53:01,825 root         INFO     skipping feature: axon.apical_dendrite.earth_movers_distance. Found extra marks: ['RequiresReferenceLayerDepths', 'RequiresLayeredPointDepths', 'RequiresApical']\n",
      "2020-02-24 17:53:01,827 root         INFO     skipping feature: apical_dendrite.dendrite.earth_movers_distance. Found extra marks: ['RequiresReferenceLayerDepths', 'RequiresLayeredPointDepths', 'RequiresApical']\n",
      "2020-02-24 17:53:01,828 root         INFO     skipping feature: dendrite.dendrite.earth_movers_distance. Found extra marks: ['RequiresReferenceLayerDepths', 'RequiresLayeredPointDepths']\n",
      "2020-02-24 17:53:01,830 root         INFO     skipping feature: basal_dendrite.dendrite.earth_movers_distance. Found extra marks: ['RequiresReferenceLayerDepths', 'RequiresLayeredPointDepths']\n",
      "2020-02-24 17:53:01,831 root         INFO     skipping feature: axon.dendrite.earth_movers_distance. Found extra marks: ['RequiresReferenceLayerDepths', 'RequiresLayeredPointDepths']\n",
      "2020-02-24 17:53:01,833 root         INFO     skipping feature: apical_dendrite.axon.earth_movers_distance. Found extra marks: ['RequiresReferenceLayerDepths', 'RequiresLayeredPointDepths', 'RequiresApical']\n",
      "2020-02-24 17:53:01,834 root         INFO     skipping feature: dendrite.axon.earth_movers_distance. Found extra marks: ['RequiresReferenceLayerDepths', 'RequiresLayeredPointDepths']\n",
      "2020-02-24 17:53:01,836 root         INFO     skipping feature: basal_dendrite.axon.earth_movers_distance. Found extra marks: ['RequiresReferenceLayerDepths', 'RequiresLayeredPointDepths']\n",
      "2020-02-24 17:53:01,837 root         INFO     skipping feature: axon.axon.earth_movers_distance. Found extra marks: ['RequiresReferenceLayerDepths', 'RequiresLayeredPointDepths']\n",
      "2020-02-24 17:53:01,839 root         INFO     skipping feature: apical_dendrite.basal_dendrite.earth_movers_distance. Found extra marks: ['RequiresReferenceLayerDepths', 'RequiresLayeredPointDepths', 'RequiresApical']\n",
      "2020-02-24 17:53:01,840 root         INFO     skipping feature: dendrite.basal_dendrite.earth_movers_distance. Found extra marks: ['RequiresReferenceLayerDepths', 'RequiresLayeredPointDepths']\n"
     ]
    },
    {
     "name": "stderr",
     "output_type": "stream",
     "text": [
      "2020-02-24 17:53:01,842 root         INFO     skipping feature: basal_dendrite.basal_dendrite.earth_movers_distance. Found extra marks: ['RequiresReferenceLayerDepths', 'RequiresLayeredPointDepths']\n",
      "2020-02-24 17:53:01,843 root         INFO     skipping feature: axon.basal_dendrite.earth_movers_distance. Found extra marks: ['RequiresReferenceLayerDepths', 'RequiresLayeredPointDepths']\n",
      "2020-02-24 17:53:01,845 root         INFO     selected features: ['dendrite.bifurcation.dimension', 'basal_dendrite.bifurcation.dimension', 'all_neurites.bifurcation.dimension', 'axon.bifurcation.dimension', 'dendrite.node.dimension', 'basal_dendrite.node.dimension', 'all_neurites.node.dimension', 'axon.node.dimension', 'dendrite.tip.dimension', 'basal_dendrite.tip.dimension', 'all_neurites.tip.dimension', 'axon.tip.dimension', 'dendrite.compartment.dimension', 'basal_dendrite.compartment.dimension', 'all_neurites.compartment.dimension', 'axon.compartment.dimension', 'dendrite.num_nodes', 'basal_dendrite.num_nodes', 'all_neurites.num_nodes', 'axon.num_nodes', 'dendrite.num_branches', 'basal_dendrite.num_branches', 'all_neurites.num_branches', 'axon.num_branches', 'dendrite.num_tips', 'basal_dendrite.num_tips', 'all_neurites.num_tips', 'axon.num_tips', 'dendrite.mean_fragmentation', 'basal_dendrite.mean_fragmentation', 'all_neurites.mean_fragmentation', 'axon.mean_fragmentation', 'dendrite.max_branch_order', 'basal_dendrite.max_branch_order', 'all_neurites.max_branch_order', 'axon.max_branch_order', 'dendrite.num_outer_bifurcations', 'basal_dendrite.num_outer_bifurcations', 'all_neurites.num_outer_bifurcations', 'axon.num_outer_bifurcations', 'dendrite.total_length', 'basal_dendrite.total_length', 'all_neurites.total_length', 'axon.total_length', 'dendrite.total_surface_area', 'basal_dendrite.total_surface_area', 'all_neurites.total_surface_area', 'axon.total_surface_area', 'dendrite.total_volume', 'basal_dendrite.total_volume', 'all_neurites.total_volume', 'axon.total_volume', 'dendrite.mean_diameter', 'basal_dendrite.mean_diameter', 'all_neurites.mean_diameter', 'axon.mean_diameter', 'dendrite.mean_parent_daughter_ratio', 'basal_dendrite.mean_parent_daughter_ratio', 'all_neurites.mean_parent_daughter_ratio', 'axon.mean_parent_daughter_ratio', 'dendrite.max_euclidean_distance', 'basal_dendrite.max_euclidean_distance', 'all_neurites.max_euclidean_distance', 'axon.max_euclidean_distance', 'max_path_distance', 'early_branch_path', 'mean_contraction', 'dendrite.dendrite.overlap', 'basal_dendrite.dendrite.overlap', 'axon.dendrite.overlap', 'dendrite.axon.overlap', 'basal_dendrite.axon.overlap', 'axon.axon.overlap', 'dendrite.basal_dendrite.overlap', 'basal_dendrite.basal_dendrite.overlap', 'axon.basal_dendrite.overlap', 'dendrite.bifurcation.moments', 'basal_dendrite.bifurcation.moments', 'all_neurites.bifurcation.moments', 'axon.bifurcation.moments', 'dendrite.node.moments', 'basal_dendrite.node.moments', 'all_neurites.node.moments', 'axon.node.moments', 'dendrite.tip.moments', 'basal_dendrite.tip.moments', 'all_neurites.tip.moments', 'axon.tip.moments', 'dendrite.compartment.moments', 'basal_dendrite.compartment.moments', 'all_neurites.compartment.moments', 'axon.compartment.moments']\n"
     ]
    }
   ],
   "source": [
    "feature_extraction_run = fe.extract(test_data)\n",
    "default_features = feature_extraction_run.results\n",
    "\n",
    "axon_dimension_features = dimension(test_data, [AXON])\n",
    "dendrite_dimension_features = dimension(test_data, [BASAL_DENDRITE])\n",
    "\n",
    "num_stems = calculate_number_of_stems(test_data,[BASAL_DENDRITE])\n",
    "\n",
    "dendrite_max_path_dist = max_path_distance(test_data, [BASAL_DENDRITE]) + max_path_distance(test_data, [APICAL_DENDRITE])\n",
    "axon_max_path_dist = max_path_distance(test_data, [AXON])\n"
   ]
  },
  {
   "cell_type": "markdown",
   "metadata": {},
   "source": [
    "## Results\n",
    "\n",
    "##### We can print extracted features"
   ]
  },
  {
   "cell_type": "code",
   "execution_count": 7,
   "metadata": {},
   "outputs": [
    {
     "name": "stdout",
     "output_type": "stream",
     "text": [
      "{\n",
      "  \"Number_of_Stems\": {\n",
      "    \"Dendrite\": 120\n",
      "  },\n",
      "  \"Overall_Width\": {\n",
      "    \"Dendrite\": \"222.43\",\n",
      "    \"Axon\": \"1967.18\"\n",
      "  },\n",
      "  \"Overall_Height\": {\n",
      "    \"Dendrite\": \"201.60\",\n",
      "    \"Axon\": \"3112.88\"\n",
      "  },\n",
      "  \"Overall_Depth\": {\n",
      "    \"Dendrite\": \"196.78\",\n",
      "    \"Axon\": \"1416.83\"\n",
      "  },\n",
      "  \"Total_Length\": {\n",
      "    \"Dendrite\": 5783.405108413997,\n",
      "    \"Axon\": 22977.13501045168\n",
      "  },\n",
      "  \"Max_Euclidean_Distance\": {\n",
      "    \"Dendrite\": \"1211.80\",\n",
      "    \"Axon\": \"3361.32\"\n",
      "  },\n",
      "  \"Max_Path_Distance\": {\n",
      "    \"Dendrite\": \"0.00\",\n",
      "    \"Axon\": \"21.37\"\n",
      "  },\n",
      "  \"Number_of_Branches\": {\n",
      "    \"Dendrite\": 120,\n",
      "    \"Axon\": 179\n",
      "  },\n",
      "  \"Max_Branch_Order\": {\n",
      "    \"Dendrite\": 0\n",
      "  },\n",
      "  \"Depth_Width_Ratio\": {\n",
      "    \"Dendrite\": \"0.88\"\n",
      "  }\n",
      "}\n"
     ]
    }
   ],
   "source": [
    "output_features = {}\n",
    "    \n",
    "output_features['Number_of_Stems'] = {}\n",
    "output_features['Overall_Width'] = {}\n",
    "output_features['Overall_Height'] = {}\n",
    "output_features['Overall_Depth'] = {}\n",
    "output_features['Total_Length'] = {}\n",
    "output_features['Max_Euclidean_Distance'] = {}\n",
    "output_features['Max_Path_Distance'] = {}\n",
    "output_features['Number_of_Branches'] = {}\n",
    "output_features['Max_Branch_Order'] = {}\n",
    "output_features['Depth_Width_Ratio'] = {}\n",
    "\n",
    "output_features['Number_of_Stems']['Dendrite'] = default_features['dendrite.num_branches']\n",
    "output_features['Overall_Width']['Dendrite'] = \"{0:.2f}\".format(dendrite_dimension_features['width'])\n",
    "output_features['Overall_Height']['Dendrite'] = \"{0:.2f}\".format(dendrite_dimension_features['height'])\n",
    "output_features['Overall_Depth']['Dendrite'] = \"{0:.2f}\".format(dendrite_dimension_features['depth'])\n",
    "output_features['Total_Length']['Dendrite'] = default_features['dendrite.total_length']\n",
    "output_features['Max_Euclidean_Distance']['Dendrite'] = \"{0:.2f}\".format(default_features['dendrite.max_euclidean_distance'])\n",
    "output_features['Max_Path_Distance']['Dendrite'] = \"{0:.2f}\".format(dendrite_max_path_dist)\n",
    "output_features['Number_of_Branches']['Dendrite'] = default_features['dendrite.num_branches']\n",
    "output_features['Max_Branch_Order']['Dendrite'] = default_features['dendrite.max_branch_order']\n",
    "output_features['Depth_Width_Ratio']['Dendrite'] = \"{0:.2f}\".format(dendrite_dimension_features['depth']/dendrite_dimension_features['width'])\n",
    "\n",
    "output_features['Overall_Width']['Axon'] = \"{0:.2f}\".format(axon_dimension_features['width'])\n",
    "output_features['Overall_Height']['Axon'] = \"{0:.2f}\".format(axon_dimension_features['height'])\n",
    "output_features['Overall_Depth']['Axon'] = \"{0:.2f}\".format(axon_dimension_features['depth'])\n",
    "output_features['Total_Length']['Axon'] = default_features['axon.total_length']\n",
    "output_features['Max_Euclidean_Distance']['Axon'] = \"{0:.2f}\".format(default_features['axon.max_euclidean_distance'])\n",
    "output_features['Max_Path_Distance']['Axon'] = \"{0:.2f}\".format(axon_max_path_dist)\n",
    "output_features['Number_of_Branches']['Axon'] = default_features['axon.num_branches']\n",
    "\n",
    "\n",
    "output = json.dumps(output_features, indent=2)\n",
    "\n",
    "print(output)"
   ]
  },
  {
   "cell_type": "markdown",
   "metadata": {},
   "source": [
    "##### Or save the features as h5 or csv file"
   ]
  },
  {
   "cell_type": "code",
   "execution_count": 8,
   "metadata": {},
   "outputs": [
    {
     "name": "stderr",
     "output_type": "stream",
     "text": [
      "../neuron_morphology/feature_extractor/feature_writer.py:54: H5pyDeprecationWarning: The default file mode will change to 'r' (read-only) in h5py 3.0. To suppress this warning, pass the mode you need to h5py.File(), or set the global default h5.get_config().default_file_mode, or set the environment variable H5PY_DEFAULT_READONLY=1. Available modes are: 'r', 'r+', 'w', 'w-'/'x', 'a'. See the docs for details.\n",
      "  self.heavy_file = h5py.File(self.heavy_path, driver=\"core\")\n",
      "2020-02-24 17:53:10,806 root         WARNING  writing additional outputs to csv. See output json for record of selected features and marks\n"
     ]
    }
   ],
   "source": [
    "heavy_path = \"test_features.h5\"\n",
    "table_path = \"test_features.csv\"\n",
    "\n",
    "features_writer = fw.FeatureWriter(heavy_path, table_path)\n",
    "features_writer.add_run(\"test\", feature_extraction_run.serialize())\n",
    "features_writer.write_table()"
   ]
  },
  {
   "cell_type": "code",
   "execution_count": null,
   "metadata": {},
   "outputs": [],
   "source": []
  }
 ],
 "metadata": {
  "kernelspec": {
   "display_name": "Python 3",
   "language": "python",
   "name": "python3"
  },
  "language_info": {
   "codemirror_mode": {
    "name": "ipython",
    "version": 3
   },
   "file_extension": ".py",
   "mimetype": "text/x-python",
   "name": "python",
   "nbconvert_exporter": "python",
   "pygments_lexer": "ipython3",
   "version": "3.7.3"
  }
 },
 "nbformat": 4,
 "nbformat_minor": 4
}
