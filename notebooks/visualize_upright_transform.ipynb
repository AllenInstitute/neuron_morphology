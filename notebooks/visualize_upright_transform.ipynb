{
 "cells": [
  {
   "cell_type": "markdown",
   "metadata": {},
   "source": [
    "# Create and Visualize an UprightTransform"
   ]
  },
  {
   "cell_type": "code",
   "execution_count": 8,
   "metadata": {},
   "outputs": [],
   "source": [
    "from collections import namedtuple, defaultdict\n",
    "from timeit import default_timer as timer\n",
    "\n",
    "import numpy as np\n",
    "import matplotlib.pyplot as plt\n",
    "from matplotlib import collections as mc\n",
    "from scipy.spatial import voronoi_plot_2d\n",
    "\n",
    "import allensdk.core.json_utilities as ju\n",
    "from allensdk.internal.pipeline_modules.cell_types.morphology import upright_transform as ut\n",
    "from neuron_morphology.transforms.upright_transform import *\n",
    "\n",
    "transforms = defaultdict(list)\n",
    "\n",
    "%matplotlib qt\n",
    "#%matplotlib inline "
   ]
  },
  {
   "cell_type": "code",
   "execution_count": 9,
   "metadata": {},
   "outputs": [],
   "source": [
    "production = \"/Volumes/programs/celltypes/production/\"\n",
    "input_files = [\n",
    "    production + \"mousecelltypes/prod2164/specimen_922613228/922613228_input_cell_alignment.json\",\n",
    "    production + \"mousecelltypes/prod2413/specimen_962261526/962261526_input_cell_alignment.json\",\n",
    "    production + \"mousecelltypes/prod1556/specimen_825269133/825269133_input_cell_alignment.json\",\n",
    "    production + \"humancelltypes/prod392/specimen_889779159/889779159_input_cell_alignment.json\"\n",
    "    ]\n",
    "# input_files = input_files[2:3]"
   ]
  },
  {
   "cell_type": "code",
   "execution_count": 10,
   "metadata": {},
   "outputs": [],
   "source": [
    "Input = namedtuple('Input', 'soma_coords pia_coords wm_coords soma_center soma_coords_str pia_coords_str wm_coords_str')\n",
    "def read_file(filename):\n",
    "    jin = ju.read(filename)\n",
    "\n",
    "    soma_coords_str = jin['primary']['Soma']['path']\n",
    "    pia_coords_str = jin['primary']['Pia']['path']\n",
    "    wm_coords_str = jin['primary']['White Matter']['path']\n",
    "\n",
    "    soma_coords = convert_coords_str(soma_coords_str)\n",
    "    pia_coords = convert_coords_str(pia_coords_str)\n",
    "    wm_coords = convert_coords_str(wm_coords_str)\n",
    "\n",
    "    soma_center = np.asarray([soma_coords['x'].mean(), soma_coords['y'].mean()])\n",
    "    return Input(soma_coords, pia_coords, wm_coords, soma_center, soma_coords_str, pia_coords_str, wm_coords_str)"
   ]
  },
  {
   "cell_type": "code",
   "execution_count": 11,
   "metadata": {},
   "outputs": [],
   "source": [
    "def _add_ax(plot_func, *args, ax=None, **kwargs):\n",
    "    if ax is None:\n",
    "        fig = plt.figure()\n",
    "        ax = fig.gca()\n",
    "    return plot_func(*args, ax=ax, **kwargs)"
   ]
  },
  {
   "cell_type": "code",
   "execution_count": 12,
   "metadata": {},
   "outputs": [],
   "source": [
    "def plot_pia_wm(data, ax=None):\n",
    "    if not ax:\n",
    "        _, ax = plt.subplots()\n",
    "\n",
    "    ax.plot(data.pia_coords['x'], data.pia_coords['y'])\n",
    "    ax.plot(data.wm_coords['x'], data.wm_coords['y'])\n",
    "    return ax"
   ]
  },
  {
   "cell_type": "code",
   "execution_count": 13,
   "metadata": {},
   "outputs": [],
   "source": [
    "def plot_inputs(input_data, ax=None):\n",
    "    if not ax:\n",
    "        _, ax = plt.subplots()\n",
    "    \n",
    "    soma_coords = input_data.soma_coords\n",
    "    pia_coords = input_data.pia_coords\n",
    "    wm_coords = input_data.wm_coords\n",
    "    soma_center = input_data.soma_center\n",
    "    \n",
    "    \n",
    "    ax.plot(soma_coords['x'], soma_coords['y'])\n",
    "    ax.plot(soma_center[0], soma_center[1])\n",
    "    plot_pia_wm(input_data, ax)\n",
    "    ax.legend(['soma', 'soma_center', 'pia', 'wm'])\n",
    "    return ax"
   ]
  },
  {
   "cell_type": "markdown",
   "metadata": {},
   "source": [
    "### Grab all inputs and plot"
   ]
  },
  {
   "cell_type": "code",
   "execution_count": 14,
   "metadata": {},
   "outputs": [],
   "source": [
    "n = len(input_files)\n",
    "fig, axes = plt.subplots(1, n, squeeze=False)\n",
    "\n",
    "inputs = []\n",
    "for i, input_file in enumerate(input_files):\n",
    "    inputs.append(read_file(input_file))\n",
    "    plot_inputs(inputs[i], axes[0, i])\n",
    "    axes[0, i].axis('scaled')"
   ]
  },
  {
   "cell_type": "markdown",
   "metadata": {},
   "source": [
    "### Smoothing"
   ]
  },
  {
   "cell_type": "code",
   "execution_count": 15,
   "metadata": {},
   "outputs": [],
   "source": [
    "def gauss_smooth(coords, n_interp=100, sigma=10):\n",
    "    from scipy.ndimage import gaussian_filter1d\n",
    "    x = coords['x']\n",
    "    y = coords['y']\n",
    "    t = np.linspace(0, 1, len(x))\n",
    "    t2 = np.linspace(0, 1, n_interp)\n",
    "\n",
    "    x2 = np.interp(t2, t, x)\n",
    "    y2 = np.interp(t2, t, y)\n",
    "\n",
    "    gauss_coords = {}\n",
    "    gauss_coords['x'] = gaussian_filter1d(x2, sigma)\n",
    "    gauss_coords['y'] = gaussian_filter1d(y2, sigma)\n",
    "    return gauss_coords"
   ]
  },
  {
   "cell_type": "code",
   "execution_count": 16,
   "metadata": {},
   "outputs": [],
   "source": [
    "def smooth(coords, method):\n",
    "    smoothers = {'gauss': gauss_smooth}\n",
    "    smoothed_coords = smoothers[method](coords)\n",
    "    return smoothed_coords"
   ]
  },
  {
   "cell_type": "code",
   "execution_count": 17,
   "metadata": {},
   "outputs": [],
   "source": [
    "def plot_smoothed_coords(input_data, smooth_input, ax):\n",
    "    if not ax:\n",
    "        _, ax = plt.subplots()\n",
    "    \n",
    "    plot_pia_wm(input_data, ax)\n",
    "    plot_pia_wm(smooth_input, ax)\n",
    "\n",
    "    return ax"
   ]
  },
  {
   "cell_type": "code",
   "execution_count": 18,
   "metadata": {},
   "outputs": [],
   "source": [
    "fig, axes = plt.subplots(1, n, squeeze=False)\n",
    "\n",
    "SmoothInputs = namedtuple('SmoothInputs', 'pia_coords, wm_coords')\n",
    "smooth_inputs = []\n",
    "for i, input_data in enumerate(inputs):\n",
    "    smooth_input = SmoothInputs(smooth(input_data.pia_coords, 'gauss'),\n",
    "                                smooth(input_data.wm_coords, 'gauss'))\n",
    "    smooth_inputs.append(smooth_input)\n",
    "    plot_smoothed_coords(input_data, smooth_input, axes[0, i])\n",
    "    axes[0, i].axis('scaled')\n"
   ]
  },
  {
   "cell_type": "markdown",
   "metadata": {},
   "source": [
    "### Perpendicular Pia\n",
    "Plot perpendicular lines to pia and the projection of the soma center on to the pia"
   ]
  },
  {
   "cell_type": "code",
   "execution_count": 19,
   "metadata": {},
   "outputs": [],
   "source": [
    "def perpendicular_line(xlist, ylist, scale=1000):\n",
    "    dx = (xlist[1] - xlist[0])\n",
    "    dy = (ylist[1] - ylist[0])\n",
    "    cx = xlist[0] + dx / 2\n",
    "    cy = ylist[0] + dy / 2\n",
    "    \n",
    "    scale /= np.sqrt(dx ** 2 + dy ** 2)\n",
    "    x_seg = [cx, cx - dy * scale]\n",
    "    y_seg = [cy, cy + dx * scale]\n",
    "    \n",
    "    return x_seg, y_seg"
   ]
  },
  {
   "cell_type": "code",
   "execution_count": 20,
   "metadata": {},
   "outputs": [],
   "source": [
    "def plot_perp_pia(data, soma_center, ax=None, plot_every=3):\n",
    "    if not ax:\n",
    "        _, ax = plt.subplots()\n",
    "    \n",
    "    plot_pia_wm(data, ax)\n",
    "    for i in range(len(data.pia_coords['x']) - 1):\n",
    "        if i % plot_every == 0:    \n",
    "            x_seg, y_seg = perpendicular_line(data.pia_coords['x'][i:i+2],data.pia_coords['y'][i:i+2])\n",
    "            ax.plot(x_seg, y_seg, 'k')\n",
    "\n",
    "    return ax"
   ]
  },
  {
   "cell_type": "code",
   "execution_count": 21,
   "metadata": {},
   "outputs": [],
   "source": [
    "fig, axes = plt.subplots(1, n, squeeze=False)\n",
    "\n",
    "for i, input_data in enumerate(inputs):\n",
    "    plot_perp_pia(smooth_inputs[i], input_data.soma_center, axes[0, i])\n",
    "    axes[0, i].axis('scaled')\n"
   ]
  },
  {
   "cell_type": "code",
   "execution_count": 22,
   "metadata": {},
   "outputs": [],
   "source": [
    "fig, axes = plt.subplots(1, n,squeeze=False)\n",
    "\n",
    "for i, input_data in enumerate(inputs):\n",
    "    proj = project_to_polyline(smooth_inputs[i].pia_coords, input_data.soma_center)\n",
    "    plot_pia_wm(smooth_inputs[i], axes[0, i])\n",
    "    axes[0, i].plot([proj[0], input_data.soma_center[0]], [proj[1], input_data.soma_center[1]])\n",
    "    axes[0, i].axis('scaled')\n",
    "    \n",
    "    theta = np.arctan2((proj[1] - input_data.soma_center[1]), (proj[0] - input_data.soma_center[0]))\n",
    "    theta = np.pi / 2 - theta\n",
    "    rot = rotation_from_angle(theta, axis=2)\n",
    "    translation = np.append(-input_data.soma_center, 0)\n",
    "    affine = affine_from_transform_translation(translation=translation,\n",
    "                                               transform=rot,\n",
    "                                               translate_first=True)\n",
    "    transforms['perpendicular_to_pia'].append(UprightTransform(affine))"
   ]
  },
  {
   "cell_type": "markdown",
   "metadata": {},
   "source": [
    "### Ray trace minimum distance"
   ]
  },
  {
   "cell_type": "code",
   "execution_count": 23,
   "metadata": {},
   "outputs": [
    {
     "name": "stdout",
     "output_type": "stream",
     "text": [
      "35.96802252402995\n",
      "16.31279934104532\n",
      "47.13320497702807\n",
      "98.00265596504323\n"
     ]
    }
   ],
   "source": [
    "fig, axes = plt.subplots(1, n,squeeze=False)\n",
    "\n",
    "for i, input_data in enumerate(inputs):\n",
    "    start = timer()\n",
    "    px, py, wx, wy= ut.calculate_shortest(input_data.soma_center[0], input_data.soma_center[1],\n",
    "                                          input_data.pia_coords_str, input_data.wm_coords_str)\n",
    "    end = timer()\n",
    "    print(end - start)\n",
    "    theta = np.pi /2 - np.arctan2((py - wy), (px - wx))\n",
    "    rot = rotation_from_angle(theta, axis=2)\n",
    "    translation = np.append(-input_data.soma_center, 0)\n",
    "    affine = affine_from_transform_translation(translation=translation,\n",
    "                                               transform=rot,\n",
    "                                               translate_first=True)\n",
    "    plot_pia_wm(input_data, axes[0, i])\n",
    "    axes[0, i].plot([px, wx],[py, wy])\n",
    "    \n",
    "    transforms['ray_trace_min_dist'].append(UprightTransform(affine))\n",
    "    "
   ]
  },
  {
   "cell_type": "markdown",
   "metadata": {},
   "source": [
    "### Voronoi\n",
    "The voronoi diagram creates lines of equal distance between points. Ignoring the lines that fall outside of the region leaves just the centerlines between the pia and soma. Finding the projection of the soma on to this midline finds the minimum distance between the wm and pia through the soma."
   ]
  },
  {
   "cell_type": "code",
   "execution_count": 24,
   "metadata": {},
   "outputs": [],
   "source": [
    "def plot_voronoi(data, input_data, ax=None):\n",
    "    if not ax:\n",
    "        _, ax = plt.subplots()\n",
    "    \n",
    "    soma_coords = input_data.soma_coords\n",
    "    soma = input_data.soma_center\n",
    "    pia_coords = data.pia_coords\n",
    "    wm_coords = data.wm_coords    \n",
    "    \n",
    "    T, v_diagram, mid_line, min_proj, theta = UprightTransform.from_coords(soma_coords, pia_coords, wm_coords, n_interp=3)\n",
    "    #voronoi_plot_2d(v_diagram, ax=ax)\n",
    "\n",
    "    lc = mc.LineCollection(mid_line)\n",
    "    ax.plot(soma_coords['x'], soma_coords['y'])\n",
    "    ax.plot(soma[0], soma[1])\n",
    "    ax.plot(pia_coords['x'], pia_coords['y'])\n",
    "    ax.plot(wm_coords['x'], wm_coords['y'])\n",
    "    ax.add_collection(lc)\n",
    "    ax.arrow(soma[0], soma[1], min_proj[0] - soma[0], min_proj[1] - soma[1])\n",
    "    ax.legend(['soma', 'soma_center', 'pia', 'wm', 'midline','soma_projection'])\n",
    "    \n",
    "    return T, ax"
   ]
  },
  {
   "cell_type": "raw",
   "metadata": {},
   "source": [
    "fig, axes = plt.subplots(1, n, squeeze=False)\n",
    "\n",
    "for i, input_data in enumerate(inputs):\n",
    "    T, _ = plot_voronoi(smooth_inputs[i], input_data, axes[0, i])\n",
    "    axes[0, i].axis('scaled')\n",
    "    transforms['voronoi'].append(T)"
   ]
  },
  {
   "cell_type": "markdown",
   "metadata": {},
   "source": [
    "### Using the Transform\n",
    "transform_coords is a helper function that creates a 3xN array (setting z to zero) from a dict of coords ({'x': \\[x_values\\], 'y':\\[y_values\\]}. It then applies the transform T to them."
   ]
  },
  {
   "cell_type": "code",
   "execution_count": 25,
   "metadata": {},
   "outputs": [],
   "source": [
    "def transform_coords(coords, T):\n",
    "    n_coords = coords['x'].shape[0]\n",
    "    array = np.hstack((coords['x'].reshape((n_coords, 1)),\n",
    "                       coords['y'].reshape((n_coords, 1)),\n",
    "                       np.zeros((n_coords, 1))))\n",
    "    return T.transform(array.T).T"
   ]
  },
  {
   "cell_type": "code",
   "execution_count": 26,
   "metadata": {},
   "outputs": [],
   "source": [
    "def plot_transformed_input(input_data, transform, ax=None):\n",
    "    soma_coords = input_data.soma_coords\n",
    "    pia_coords = input_data.pia_coords\n",
    "    wm_coords = input_data.wm_coords\n",
    "    \n",
    "    soma_coords_t = transform_coords(soma_coords, transform)\n",
    "    ax.plot(soma_coords_t[:, 0], soma_coords_t[:, 1])\n",
    "    pia_coords_t = transform_coords(pia_coords, transform)\n",
    "    ax.plot(pia_coords_t[:, 0], pia_coords_t[:, 1])\n",
    "    wm_coords_t = transform_coords(wm_coords, transform)\n",
    "    ax.plot(wm_coords_t[:, 0], wm_coords_t[:, 1])\n",
    "    ax.legend(['soma', 'pia', 'wm'])\n",
    "    \n",
    "    return ax"
   ]
  },
  {
   "cell_type": "code",
   "execution_count": 27,
   "metadata": {},
   "outputs": [],
   "source": [
    "def print_transform(T):\n",
    "    theta = np.arccos(transform_list[j].affine[0, 0])\n",
    "\n",
    "    print('Theta (rad): ', theta)\n",
    "    print('Theta (deg): ', np.degrees(theta))\n",
    "\n",
    "    tvr = T.to_dict()\n",
    "    for key, value in tvr.items():\n",
    "        print(key, value)"
   ]
  },
  {
   "cell_type": "code",
   "execution_count": 28,
   "metadata": {},
   "outputs": [],
   "source": [
    "fig, axes = plt.subplots(len(transforms), n, squeeze=False)\n",
    "\n",
    "for i, (transform_name, transform_list) in enumerate(transforms.items()):\n",
    "    for j, input_data in enumerate(inputs):\n",
    "        plot_transformed_input(input_data, transform_list[j], axes[i, j])\n",
    "        theta = np.degrees(np.arccos(transform_list[j].affine[0, 0]))\n",
    "        axes[i, j].set_title(transform_name + f' {theta:.2f}')\n",
    "        axes[i, j].axis('scaled')\n",
    "\n"
   ]
  },
  {
   "cell_type": "code",
   "execution_count": null,
   "metadata": {},
   "outputs": [],
   "source": []
  }
 ],
 "metadata": {
  "kernelspec": {
   "display_name": "Python [conda env:allensdk_neuro_py36_dev] *",
   "language": "python",
   "name": "conda-env-allensdk_neuro_py36_dev-py"
  },
  "language_info": {
   "codemirror_mode": {
    "name": "ipython",
    "version": 3
   },
   "file_extension": ".py",
   "mimetype": "text/x-python",
   "name": "python",
   "nbconvert_exporter": "python",
   "pygments_lexer": "ipython3",
   "version": "3.6.9"
  }
 },
 "nbformat": 4,
 "nbformat_minor": 2
}
