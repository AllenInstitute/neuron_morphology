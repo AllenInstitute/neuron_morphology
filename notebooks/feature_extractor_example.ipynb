{
 "cells": [
  {
   "cell_type": "code",
   "execution_count": 1,
   "metadata": {},
   "outputs": [],
   "source": [
    "# A few tools for downloading the data\n",
    "from io import StringIO\n",
    "import requests\n",
    "from neuron_morphology.swc_io import morphology_from_swc\n",
    "from neuron_morphology.feature_extractor.data import Data\n"
   ]
  },
  {
   "cell_type": "code",
   "execution_count": 2,
   "metadata": {
    "scrolled": false
   },
   "outputs": [],
   "source": [
    "# fetch a published reconstruction \n",
    "morphology_url = \"http://celltypes.brain-map.org/api/v2/well_known_file_download/491120375\"\n",
    "morphology_swc = StringIO(requests.get(morphology_url).text)\n",
    "morphology = morphology_from_swc(morphology_swc)\n",
    "\n",
    "# Feature functions expect a Data object - in this case just a wrapper for a Morphology\n",
    "# If we were working with additional data (say, layer annotations) we would store these here as well\n",
    "test_data = Data(morphology)"
   ]
  },
  {
   "cell_type": "markdown",
   "metadata": {},
   "source": [
    "### neuron_morphology provides a library of feature functions"
   ]
  },
  {
   "cell_type": "code",
   "execution_count": 3,
   "metadata": {},
   "outputs": [
    {
     "data": {
      "text/plain": [
       "Signature:\n",
       "num_outer_bifurcations(data: neuron_morphology.feature_extractor.data.Data, node_types: Union[List[int], NoneType] = None) -> int\n",
       "\n",
       "Marks: ['RequiresRoot', 'BifurcationFeatures']\n",
       "\n",
       "Help:\n",
       " Feature Extractor interface to calculate_outer_bifurcations. Returns the \n",
       "    number of bifurcations (branch points), excluding those too close to the \n",
       "    root (threshold is 1/2 the max distance from the root to any node).\n",
       "\n",
       "    Parameters\n",
       "    ----------\n",
       "    data : Holds a morphology object. No additional data is required\n",
       "    node_types : Restrict included nodes to these types. See \n",
       "        neuron_morphology.constants for avaiable node types. \n",
       "\n",
       "    "
      ]
     },
     "execution_count": 3,
     "metadata": {},
     "output_type": "execute_result"
    }
   ],
   "source": [
    "from neuron_morphology.features.branching.outer_bifurcations import num_outer_bifurcations\n",
    "\n",
    "num_outer_bifurcations"
   ]
  },
  {
   "cell_type": "code",
   "execution_count": 4,
   "metadata": {},
   "outputs": [
    {
     "data": {
      "text/plain": [
       "6"
      ]
     },
     "execution_count": 4,
     "metadata": {},
     "output_type": "execute_result"
    }
   ],
   "source": [
    "# we can call this just like any function\n",
    "num_outer_bifurcations(test_data)"
   ]
  },
  {
   "cell_type": "markdown",
   "metadata": {},
   "source": [
    "### Use a FeatureExtractor to run many features at once"
   ]
  },
  {
   "cell_type": "code",
   "execution_count": 7,
   "metadata": {},
   "outputs": [
    {
     "name": "stderr",
     "output_type": "stream",
     "text": [
      "/home/nileg/Desktop/neuron_morphology/neuron_morphology/feature_extractor/mark.py:118: UserWarning: This morphology is not uniquely rooted! Found 7 root nodes. Features using the root node of this morphology may not select that node consistently. Some or all of these root nodes may not be soma nodes.\n",
      "  f\"This morphology is not uniquely rooted! Found {num_roots} \"\n"
     ]
    },
    {
     "data": {
      "text/plain": [
       "{'dimension_features': {'all_neurites': {'width': 598.6509,\n",
       "   'height': 602.6546,\n",
       "   'depth': 71.5631,\n",
       "   'min_x': 51.1766,\n",
       "   'min_y': 221.2187,\n",
       "   'min_z': 10.1711,\n",
       "   'max_x': 649.8275,\n",
       "   'max_y': 823.8733,\n",
       "   'max_z': 81.7342},\n",
       "  'axon': {'width': 598.6509,\n",
       "   'height': 602.6546,\n",
       "   'depth': 71.5631,\n",
       "   'min_x': 51.1766,\n",
       "   'min_y': 221.2187,\n",
       "   'min_z': 10.1711,\n",
       "   'max_x': 649.8275,\n",
       "   'max_y': 823.8733,\n",
       "   'max_z': 81.7342},\n",
       "  'basal_dendrite': {'width': 384.2443999999999,\n",
       "   'height': 209.35199999999998,\n",
       "   'depth': 58.8211,\n",
       "   'min_x': 216.5112,\n",
       "   'min_y': 290.8048,\n",
       "   'min_z': 10.8009,\n",
       "   'max_x': 600.7556,\n",
       "   'max_y': 500.1568,\n",
       "   'max_z': 69.622},\n",
       "  'apical_dendrite': {'width': nan,\n",
       "   'height': nan,\n",
       "   'depth': nan,\n",
       "   'min_x': nan,\n",
       "   'min_y': nan,\n",
       "   'min_z': nan,\n",
       "   'max_x': nan,\n",
       "   'max_y': nan,\n",
       "   'max_z': nan}},\n",
       " 'intrinsic_features': {'all_neurites': {'num_branches': 234,\n",
       "   'max_branch_order': 20,\n",
       "   'mean_fragmentation': 40.113122171945705,\n",
       "   'num_tips': 122,\n",
       "   'num_nodes': 9011},\n",
       "  'axon': {'num_branches': 205,\n",
       "   'max_branch_order': 18,\n",
       "   'mean_fragmentation': 39.83076923076923,\n",
       "   'num_tips': 106,\n",
       "   'num_nodes': 7872},\n",
       "  'basal_dendrite': {'num_branches': 28,\n",
       "   'max_branch_order': 5,\n",
       "   'mean_fragmentation': 45.666666666666664,\n",
       "   'num_tips': 16,\n",
       "   'num_nodes': 1138},\n",
       "  'apical_dendrite': {'num_branches': 0,\n",
       "   'max_branch_order': 0,\n",
       "   'mean_fragmentation': nan,\n",
       "   'num_tips': 0,\n",
       "   'num_nodes': 0}},\n",
       " 'num_outer_bifurcations': 6}"
      ]
     },
     "execution_count": 7,
     "metadata": {},
     "output_type": "execute_result"
    }
   ],
   "source": [
    "from neuron_morphology.feature_extractor.feature_extractor import FeatureExtractor\n",
    "from neuron_morphology.features.default_features import dimension_features, intrinsic_features\n",
    "\n",
    "extractor = FeatureExtractor()\n",
    "\n",
    "extractor.register_features([\n",
    "    num_outer_bifurcations,\n",
    "    dimension_features,\n",
    "    intrinsic_features\n",
    "])\n",
    "\n",
    "extractor.extract(test_data).results"
   ]
  },
  {
   "cell_type": "markdown",
   "metadata": {},
   "source": [
    "### Use specialization to run features across neurite types\n",
    "... or other parameters"
   ]
  },
  {
   "cell_type": "code",
   "execution_count": 8,
   "metadata": {},
   "outputs": [
    {
     "data": {
      "text/plain": [
       "{'basal_dendrite.num_outer_bifurcations': 2,\n",
       " 'dendrite.num_outer_bifurcations': 2,\n",
       " 'intrinsic_features': {'all_neurites': {'num_branches': 234,\n",
       "   'max_branch_order': 20,\n",
       "   'mean_fragmentation': 40.113122171945705,\n",
       "   'num_tips': 122,\n",
       "   'num_nodes': 9011},\n",
       "  'axon': {'num_branches': 205,\n",
       "   'max_branch_order': 18,\n",
       "   'mean_fragmentation': 39.83076923076923,\n",
       "   'num_tips': 106,\n",
       "   'num_nodes': 7872},\n",
       "  'basal_dendrite': {'num_branches': 28,\n",
       "   'max_branch_order': 5,\n",
       "   'mean_fragmentation': 45.666666666666664,\n",
       "   'num_tips': 16,\n",
       "   'num_nodes': 1138},\n",
       "  'apical_dendrite': {'num_branches': 0,\n",
       "   'max_branch_order': 0,\n",
       "   'mean_fragmentation': nan,\n",
       "   'num_tips': 0,\n",
       "   'num_nodes': 0}},\n",
       " 'dimension_features': {'all_neurites': {'width': 598.6509,\n",
       "   'height': 602.6546,\n",
       "   'depth': 71.5631,\n",
       "   'min_x': 51.1766,\n",
       "   'min_y': 221.2187,\n",
       "   'min_z': 10.1711,\n",
       "   'max_x': 649.8275,\n",
       "   'max_y': 823.8733,\n",
       "   'max_z': 81.7342},\n",
       "  'axon': {'width': 598.6509,\n",
       "   'height': 602.6546,\n",
       "   'depth': 71.5631,\n",
       "   'min_x': 51.1766,\n",
       "   'min_y': 221.2187,\n",
       "   'min_z': 10.1711,\n",
       "   'max_x': 649.8275,\n",
       "   'max_y': 823.8733,\n",
       "   'max_z': 81.7342},\n",
       "  'basal_dendrite': {'width': 384.2443999999999,\n",
       "   'height': 209.35199999999998,\n",
       "   'depth': 58.8211,\n",
       "   'min_x': 216.5112,\n",
       "   'min_y': 290.8048,\n",
       "   'min_z': 10.8009,\n",
       "   'max_x': 600.7556,\n",
       "   'max_y': 500.1568,\n",
       "   'max_z': 69.622},\n",
       "  'apical_dendrite': {'width': nan,\n",
       "   'height': nan,\n",
       "   'depth': nan,\n",
       "   'min_x': nan,\n",
       "   'min_y': nan,\n",
       "   'min_z': nan,\n",
       "   'max_x': nan,\n",
       "   'max_y': nan,\n",
       "   'max_z': nan}},\n",
       " 'all_neurites.num_outer_bifurcations': 6,\n",
       " 'axon.num_outer_bifurcations': 4}"
      ]
     },
     "execution_count": 8,
     "metadata": {},
     "output_type": "execute_result"
    }
   ],
   "source": [
    "from neuron_morphology.feature_extractor.feature_specialization import NEURITE_SPECIALIZATIONS\n",
    "from neuron_morphology.feature_extractor.marked_feature import specialize\n",
    "\n",
    "extractor = FeatureExtractor()\n",
    "\n",
    "extractor.register_features([\n",
    "    specialize(num_outer_bifurcations, NEURITE_SPECIALIZATIONS),\n",
    "    dimension_features,\n",
    "    intrinsic_features\n",
    "])\n",
    "\n",
    "extractor.extract(test_data).results"
   ]
  },
  {
   "cell_type": "markdown",
   "metadata": {},
   "source": [
    "### It is easy to write and categorize new features"
   ]
  },
  {
   "cell_type": "code",
   "execution_count": 11,
   "metadata": {},
   "outputs": [
    {
     "data": {
      "text/plain": [
       "Signature:\n",
       "num_nodes(data: neuron_morphology.feature_extractor.data.Data) -> int\n",
       "\n",
       "Marks: ['IsTrivial', 'IsGlobal']\n",
       "\n",
       "Help:\n",
       "Count the nodes!\n",
       "    "
      ]
     },
     "execution_count": 11,
     "metadata": {},
     "output_type": "execute_result"
    }
   ],
   "source": [
    "from neuron_morphology.feature_extractor.mark import Mark\n",
    "from neuron_morphology.feature_extractor.marked_feature import marked\n",
    "\n",
    "IsGlobal = Mark.factory(\"IsGlobal\")\n",
    "IsTrivial = Mark.factory(\"IsTrivial\")\n",
    "\n",
    "@marked(IsGlobal)\n",
    "@marked(IsTrivial)\n",
    "def num_nodes(data: Data) -> int:\n",
    "    \"\"\"Count the nodes!\n",
    "    \"\"\"\n",
    "    return len(data.morphology.nodes)\n",
    "\n",
    "num_nodes"
   ]
  },
  {
   "cell_type": "code",
   "execution_count": null,
   "metadata": {},
   "outputs": [],
   "source": []
  }
 ],
 "metadata": {
  "kernelspec": {
   "display_name": "py37",
   "language": "python",
   "name": "py37"
  },
  "language_info": {
   "codemirror_mode": {
    "name": "ipython",
    "version": 3
   },
   "file_extension": ".py",
   "mimetype": "text/x-python",
   "name": "python",
   "nbconvert_exporter": "python",
   "pygments_lexer": "ipython3",
   "version": "3.7.3"
  }
 },
 "nbformat": 4,
 "nbformat_minor": 2
}
