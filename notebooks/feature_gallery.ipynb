{
 "cells": [
  {
   "cell_type": "code",
   "execution_count": 1,
   "metadata": {},
   "outputs": [],
   "source": [
    "from pprint import pprint\n",
    "from io import StringIO\n",
    "import logging\n",
    "\n",
    "import numpy as np\n",
    "import requests\n",
    "\n",
    "from neuron_morphology.swc_io import morphology_from_swc\n",
    "from neuron_morphology.feature_extractor.feature_extractor import FeatureExtractor\n",
    "from neuron_morphology.feature_extractor.marked_feature import specialize\n",
    "from neuron_morphology.feature_extractor.__main__ import unnest\n",
    "from neuron_morphology.feature_extractor.data import Data\n",
    "from neuron_morphology.constants import AXON, APICAL_DENDRITE, BASAL_DENDRITE, SOMA\n",
    "from neuron_morphology.feature_extractor.feature_specialization import NEURITE_SPECIALIZATIONS"
   ]
  },
  {
   "cell_type": "code",
   "execution_count": 2,
   "metadata": {},
   "outputs": [],
   "source": [
    "logging.getLogger().setLevel(logging.INFO)\n",
    "\n",
    "morphology = morphology_from_swc(StringIO(requests.get(\n",
    "    \"http://celltypes.brain-map.org/api/v2/well_known_file_download/491120375\"\n",
    ").text))"
   ]
  },
  {
   "cell_type": "markdown",
   "metadata": {},
   "source": [
    "## Layer Histograms\n",
    "\n",
    "These are histograms of node (or other point feature) depths within cortical layers. The bins for the histograms are defined in terms of reference layer boundary depths "
   ]
  },
  {
   "cell_type": "code",
   "execution_count": 3,
   "metadata": {},
   "outputs": [
    {
     "name": "stdout",
     "output_type": "stream",
     "text": [
      "{'human_me_met': {'1': ReferenceLayerDepths(pia_side=0.0, wm_side=247.9338740595, scale=True),\n",
      "                  '2': ReferenceLayerDepths(pia_side=247.9338740595, wm_side=410.0775480852, scale=True),\n",
      "                  '3': ReferenceLayerDepths(pia_side=410.0775480852, wm_side=1322.3048788711, scale=True),\n",
      "                  '4': ReferenceLayerDepths(pia_side=1322.3048788711, wm_side=1557.8034331092, scale=True),\n",
      "                  '5': ReferenceLayerDepths(pia_side=1557.8034331092, wm_side=2189.3775739155, scale=True),\n",
      "                  '6': ReferenceLayerDepths(pia_side=2189.3775739155, wm_side=3077.3662871205, scale=True),\n",
      "                  'wm': ReferenceLayerDepths(pia_side=3077.3662871205, wm_side=3277.3662871205, scale=False)},\n",
      " 'human_mtg': {'1': ReferenceLayerDepths(pia_side=0.0, wm_side=247.2137476577, scale=True),\n",
      "               '2': ReferenceLayerDepths(pia_side=247.2137476577, wm_side=407.2001623338, scale=True),\n",
      "               '3': ReferenceLayerDepths(pia_side=407.2001623338, wm_side=1363.9197375716, scale=True),\n",
      "               '4': ReferenceLayerDepths(pia_side=1363.9197375716, wm_side=1610.9787635587, scale=True),\n",
      "               '5': ReferenceLayerDepths(pia_side=1610.9787635587, wm_side=2272.5330387742, scale=True),\n",
      "               '6': ReferenceLayerDepths(pia_side=2272.5330387742, wm_side=3162.1973826021, scale=True),\n",
      "               'wm': ReferenceLayerDepths(pia_side=3162.1973826021, wm_side=3362.1973826021, scale=False)},\n",
      " 'mouse': {'1': ReferenceLayerDepths(pia_side=0.0, wm_side=116.8406715462, scale=True),\n",
      "           '2/3': ReferenceLayerDepths(pia_side=116.8406715462, wm_side=349.9050202564, scale=True),\n",
      "           '4': ReferenceLayerDepths(pia_side=349.9050202564, wm_side=477.8605504893, scale=True),\n",
      "           '5': ReferenceLayerDepths(pia_side=477.8605504893, wm_side=717.1835081307, scale=True),\n",
      "           '6a': ReferenceLayerDepths(pia_side=717.1835081307, wm_side=909.8772394508, scale=True),\n",
      "           '6b': ReferenceLayerDepths(pia_side=909.8772394508, wm_side=957.0592130899, scale=True),\n",
      "           'wm': ReferenceLayerDepths(pia_side=957.0592130899, wm_side=1157.0592130899, scale=False)},\n",
      " 'mouse_me_met': {'1': ReferenceLayerDepths(pia_side=0.0, wm_side=115.1112491335, scale=True),\n",
      "                  '2/3': ReferenceLayerDepths(pia_side=115.1112491335, wm_side=333.4658190171, scale=True),\n",
      "                  '4': ReferenceLayerDepths(pia_side=333.4658190171, wm_side=453.6227158132, scale=True),\n",
      "                  '5': ReferenceLayerDepths(pia_side=453.6227158132, wm_side=687.6482650269, scale=True),\n",
      "                  '6a': ReferenceLayerDepths(pia_side=687.6482650269, wm_side=883.1308910545, scale=True),\n",
      "                  '6b': ReferenceLayerDepths(pia_side=883.1308910545, wm_side=922.5861720311, scale=True),\n",
      "                  'wm': ReferenceLayerDepths(pia_side=922.5861720311, wm_side=1122.5861720311, scale=False)}}\n"
     ]
    }
   ],
   "source": [
    "# we provide a few collections of reference layer boundary depths (in microns). You can define your own by using \n",
    "# neuron_morphology.features.layer.reference_layer_depths.ReferenceLayerDepths\n",
    "\n",
    "from neuron_morphology.features.layer.reference_layer_depths import WELL_KNOWN_REFERENCE_LAYER_DEPTHS\n",
    "pprint(WELL_KNOWN_REFERENCE_LAYER_DEPTHS)"
   ]
  },
  {
   "cell_type": "code",
   "execution_count": 10,
   "metadata": {
    "scrolled": false
   },
   "outputs": [
    {
     "name": "stderr",
     "output_type": "stream",
     "text": [
      "INFO:root:skipping mark (validation failed): type\n",
      "INFO:root:selected marks: <bound method FeatureExtractionRun.select_marks of <neuron_morphology.feature_extractor.feature_extraction_run.FeatureExtractionRun object at 0x7f10c49c2b90>>\n",
      "INFO:root:skipping feature: apical_dendrite.normalized_depth_histogram. Found extra marks: ['RequiresApical']\n",
      "INFO:root:selected features: ['basal_dendrite.normalized_depth_histogram', 'axon.normalized_depth_histogram', 'all_neurites.normalized_depth_histogram', 'dendrite.normalized_depth_histogram']\n"
     ]
    },
    {
     "name": "stdout",
     "output_type": "stream",
     "text": [
      "axon.normalized_depth_histogram.wm [1097.05921309] [1102.05921309]\n",
      "all_neurites.normalized_depth_histogram.1 [100.] [105.]\n",
      "all_neurites.normalized_depth_histogram.2/3 [196.84067155 296.84067155] [201.84067155 301.84067155]\n",
      "all_neurites.normalized_depth_histogram.wm [1097.05921309] [1102.05921309]\n",
      "dendrite.normalized_depth_histogram.1 [100.] [105.]\n",
      "dendrite.normalized_depth_histogram.2/3 [196.84067155 296.84067155] [201.84067155 301.84067155]\n"
     ]
    }
   ],
   "source": [
    "from neuron_morphology.features.layer.layer import normalized_depth_histogram\n",
    "from neuron_morphology.features.layer.layered_point_depths import LayeredPointDepths\n",
    "\n",
    "data = Data(\n",
    "    morphology,  # this is not actually used!\n",
    "    reference_layer_depths=WELL_KNOWN_REFERENCE_LAYER_DEPTHS[\"mouse\"],\n",
    "    layered_point_depths=LayeredPointDepths(\n",
    "        ids=[0, 1, 2, 3],\n",
    "        layer_names=[\"1\", \"2/3\", \"2/3\", \"wm\"],\n",
    "        depths=[100.0, 200.0, 300.0, 1100.0],\n",
    "        point_types=[APICAL_DENDRITE, APICAL_DENDRITE, APICAL_DENDRITE, AXON],\n",
    "        local_layer_pia_side_depths=[1.0, 117.0, 118.0, 958.0],\n",
    "        local_layer_wm_side_depths=[117.0, 350.0, 351.0, np.nan]\n",
    "    )\n",
    ")\n",
    "\n",
    "run = (\n",
    "    FeatureExtractor()\n",
    "        .register_features([\n",
    "            specialize(normalized_depth_histogram, NEURITE_SPECIALIZATIONS)\n",
    "        ])\n",
    "        .extract(data)\n",
    ")\n",
    "\n",
    "for feature_name, result in unnest(run.results).items():\n",
    "    found = np.nonzero(result.counts)[0]\n",
    "    print(feature_name, result.bin_edges[found], result.bin_edges[found+1])\n",
    "    "
   ]
  },
  {
   "cell_type": "code",
   "execution_count": null,
   "metadata": {},
   "outputs": [],
   "source": []
  },
  {
   "cell_type": "code",
   "execution_count": null,
   "metadata": {},
   "outputs": [],
   "source": []
  },
  {
   "cell_type": "code",
   "execution_count": null,
   "metadata": {},
   "outputs": [],
   "source": []
  }
 ],
 "metadata": {
  "kernelspec": {
   "display_name": "allensdk37",
   "language": "python",
   "name": "allensdk37"
  },
  "language_info": {
   "codemirror_mode": {
    "name": "ipython",
    "version": 3
   },
   "file_extension": ".py",
   "mimetype": "text/x-python",
   "name": "python",
   "nbconvert_exporter": "python",
   "pygments_lexer": "ipython3",
   "version": "3.7.5"
  }
 },
 "nbformat": 4,
 "nbformat_minor": 2
}
