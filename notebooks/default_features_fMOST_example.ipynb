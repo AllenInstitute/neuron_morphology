{
 "cells": [
  {
   "cell_type": "code",
   "execution_count": 1,
   "metadata": {},
   "outputs": [],
   "source": [
    "import sys\n",
    "sys.path.insert(0, \"../\")\n",
    "\n",
    "from io import StringIO\n",
    "import copy\n",
    "import matplotlib.pyplot as plt\n",
    "import neuron_morphology.swc_io as swcio\n",
    "from neuron_morphology.morphology import Morphology\n",
    "from neuron_morphology.swc_io import morphology_from_swc\n",
    "from neuron_morphology.feature_extractor.data import Data\n",
    "from neuron_morphology.feature_extractor.feature_extractor import FeatureExtractor\n",
    "import neuron_morphology.feature_extractor.feature_writer as fw\n",
    "from neuron_morphology.features.default_features import default_features"
   ]
  },
  {
   "cell_type": "code",
   "execution_count": 2,
   "metadata": {},
   "outputs": [],
   "source": [
    "fmost_swc_file = \"17545-6151-X24259-Y36270.swc\""
   ]
  },
  {
   "cell_type": "code",
   "execution_count": 3,
   "metadata": {},
   "outputs": [],
   "source": [
    "swc_data = swcio.read_swc(fmost_swc_file)"
   ]
  },
  {
   "cell_type": "code",
   "execution_count": 4,
   "metadata": {},
   "outputs": [
    {
     "name": "stdout",
     "output_type": "stream",
     "text": [
      "3397 2\n"
     ]
    }
   ],
   "source": [
    "nodes = swc_data.to_dict('record')\n",
    "\n",
    "replace_type = 2 # default node type\n",
    "for node in nodes:\n",
    "    # unfortunately, pandas automatically promotes numeric types to float in to_dict\n",
    "    node['parent'] = int(node['parent'])\n",
    "    node['id'] = int(node['id'])\n",
    "    node['type'] = int(node['type'])\n",
    "    \n",
    "    if node['parent'] == -1 and node['type'] != 1:\n",
    "        replace_type = node['type']\n",
    "        \n",
    "    if node['type'] == 1 and node['parent'] != -1:\n",
    "        node['type'] = replace_type\n",
    "        \n",
    "print(len(nodes), replace_type)"
   ]
  },
  {
   "cell_type": "code",
   "execution_count": 5,
   "metadata": {},
   "outputs": [
    {
     "name": "stdout",
     "output_type": "stream",
     "text": [
      "[{'id': 337101, 'type': 1, 'x': 7997.95, 'y': 3408.625, 'z': 3225.425, 'radius': 100.0, 'parent': -1}, {'id': 337205, 'type': 1, 'x': 7997.95, 'y': 3408.625, 'z': 3225.425, 'radius': 100.0, 'parent': -1}, {'id': 337210, 'type': 1, 'x': 7997.95, 'y': 3408.625, 'z': 3225.425, 'radius': 100.0, 'parent': -1}, {'id': 337367, 'type': 1, 'x': 7997.95, 'y': 3408.625, 'z': 3225.425, 'radius': 100.0, 'parent': -1}, {'id': 337383, 'type': 1, 'x': 7997.95, 'y': 3408.625, 'z': 3225.425, 'radius': 100.0, 'parent': -1}, {'id': 337389, 'type': 1, 'x': 7997.95, 'y': 3408.625, 'z': 3225.425, 'radius': 100.0, 'parent': -1}, {'id': 337400, 'type': 1, 'x': 7997.95, 'y': 3408.625, 'z': 3225.425, 'radius': 100.0, 'parent': -1}, {'id': 337433, 'type': 1, 'x': 7997.95, 'y': 3408.625, 'z': 3225.425, 'radius': 100.0, 'parent': -1}, {'id': 337457, 'type': 1, 'x': 7997.95, 'y': 3408.625, 'z': 3225.425, 'radius': 100.0, 'parent': -1}, {'id': 337464, 'type': 1, 'x': 7997.95, 'y': 3408.625, 'z': 3225.425, 'radius': 100.0, 'parent': -1}, {'id': 337468, 'type': 1, 'x': 7997.95, 'y': 3408.625, 'z': 3225.425, 'radius': 100.0, 'parent': -1}]\n"
     ]
    }
   ],
   "source": [
    "soma_list = []\n",
    "for node in nodes:\n",
    "    if node['type'] == 1:\n",
    "        soma_list.append(node)\n",
    "\n",
    "print(soma_list)\n",
    "\n",
    "# create a new soma point\n",
    "if len(soma_list) > 1:\n",
    "    x = 0\n",
    "    y = 0\n",
    "    z = 0\n",
    "    n = len(soma_list)\n",
    "    for node in soma_list:\n",
    "        x += node['x']\n",
    "        y += node['y']\n",
    "        z += node['z']\n",
    "        \n",
    "    soma = copy.deepcopy(soma_list[0])\n",
    "    soma['id'] = nodes[-1]['id']\n",
    "    soma['x'] = x/n\n",
    "    soma['y'] = y/n\n",
    "    soma['z'] = z/n\n",
    "    \n",
    "    \n",
    "    for node in soma_list:\n",
    "        node['parent'] = soma['id']\n",
    "        node['type'] = replace_type\n",
    "else:\n",
    "    soma = soma_list[0]"
   ]
  },
  {
   "cell_type": "code",
   "execution_count": 7,
   "metadata": {},
   "outputs": [],
   "source": [
    "test_data = Data(Morphology(nodes, node_id_cb=lambda node: node['id'], parent_id_cb=lambda node: node['parent']))"
   ]
  },
  {
   "cell_type": "code",
   "execution_count": 8,
   "metadata": {},
   "outputs": [],
   "source": [
    "fe = FeatureExtractor()\n",
    "for feature in default_features:\n",
    "    fe.register_features([feature])"
   ]
  },
  {
   "cell_type": "code",
   "execution_count": 9,
   "metadata": {},
   "outputs": [
    {
     "name": "stderr",
     "output_type": "stream",
     "text": [
      "../neuron_morphology/feature_extractor/mark.py:118: UserWarning: This morphology is not uniquely rooted! Found 278 root nodes. Features using the root node of this morphology may not select that node consistently. Some or all of these root nodes may not be soma nodes.\n",
      "  f\"This morphology is not uniquely rooted! Found {num_roots} \"\n",
      "2020-02-21 17:31:47,968 root         INFO     skipping mark (validation failed): type\n",
      "2020-02-21 17:31:47,972 root         INFO     skipping mark (validation failed): type\n",
      "2020-02-21 17:31:47,980 root         INFO     skipping mark (validation failed): type\n",
      "2020-02-21 17:31:47,981 root         INFO     selected marks: <bound method FeatureExtractionRun.select_marks of <neuron_morphology.feature_extractor.feature_extraction_run.FeatureExtractionRun object at 0x7ffb5c722978>>\n",
      "2020-02-21 17:31:47,982 root         INFO     skipping feature: apical_dendrite.bifurcation.dimension. Found extra marks: ['RequiresApical']\n",
      "2020-02-21 17:31:47,984 root         INFO     skipping feature: apical_dendrite.node.dimension. Found extra marks: ['RequiresApical']\n",
      "2020-02-21 17:31:47,985 root         INFO     skipping feature: apical_dendrite.compartment.dimension. Found extra marks: ['RequiresApical']\n",
      "2020-02-21 17:31:47,986 root         INFO     skipping feature: apical_dendrite.tip.dimension. Found extra marks: ['RequiresApical']\n",
      "2020-02-21 17:31:47,987 root         INFO     skipping feature: apical_dendrite.num_nodes. Found extra marks: ['RequiresApical']\n",
      "2020-02-21 17:31:47,988 root         INFO     skipping feature: apical_dendrite.num_branches. Found extra marks: ['RequiresApical']\n",
      "2020-02-21 17:31:47,990 root         INFO     skipping feature: apical_dendrite.num_tips. Found extra marks: ['RequiresApical']\n",
      "2020-02-21 17:31:47,991 root         INFO     skipping feature: apical_dendrite.mean_fragmentation. Found extra marks: ['RequiresApical']\n",
      "2020-02-21 17:31:47,991 root         INFO     skipping feature: apical_dendrite.max_branch_order. Found extra marks: ['RequiresApical']\n",
      "2020-02-21 17:31:47,993 root         INFO     skipping feature: apical_dendrite.num_outer_bifurcations. Found extra marks: ['RequiresApical']\n",
      "2020-02-21 17:31:47,994 root         INFO     skipping feature: apical_dendrite.total_length. Found extra marks: ['RequiresApical']\n",
      "2020-02-21 17:31:47,995 root         INFO     skipping feature: apical_dendrite.total_surface_area. Found extra marks: ['RequiresApical']\n",
      "2020-02-21 17:31:47,996 root         INFO     skipping feature: apical_dendrite.total_volume. Found extra marks: ['RequiresApical']\n",
      "2020-02-21 17:31:47,997 root         INFO     skipping feature: apical_dendrite.mean_diameter. Found extra marks: ['RequiresApical']\n",
      "2020-02-21 17:31:47,999 root         INFO     skipping feature: apical_dendrite.mean_parent_daughter_ratio. Found extra marks: ['RequiresApical']\n",
      "2020-02-21 17:31:48,000 root         INFO     skipping feature: apical_dendrite.max_euclidean_distance. Found extra marks: ['RequiresApical']\n",
      "2020-02-21 17:31:48,001 root         INFO     skipping feature: apical_dendrite.basal_dendrite.overlap. Found extra marks: ['RequiresApical']\n",
      "2020-02-21 17:31:48,002 root         INFO     skipping feature: apical_dendrite.axon.overlap. Found extra marks: ['RequiresApical']\n",
      "2020-02-21 17:31:48,003 root         INFO     skipping feature: apical_dendrite.apical_dendrite.overlap. Found extra marks: ['RequiresApical']\n",
      "2020-02-21 17:31:48,005 root         INFO     skipping feature: dendrite.apical_dendrite.overlap. Found extra marks: ['RequiresApical']\n",
      "2020-02-21 17:31:48,006 root         INFO     skipping feature: basal_dendrite.apical_dendrite.overlap. Found extra marks: ['RequiresApical']\n",
      "2020-02-21 17:31:48,007 root         INFO     skipping feature: axon.apical_dendrite.overlap. Found extra marks: ['RequiresApical']\n",
      "2020-02-21 17:31:48,007 root         INFO     skipping feature: apical_dendrite.dendrite.overlap. Found extra marks: ['RequiresApical']\n",
      "2020-02-21 17:31:48,008 root         INFO     skipping feature: apical_dendrite.bifurcation.moments. Found extra marks: ['RequiresApical']\n",
      "2020-02-21 17:31:48,009 root         INFO     skipping feature: apical_dendrite.node.moments. Found extra marks: ['RequiresApical']\n",
      "2020-02-21 17:31:48,011 root         INFO     skipping feature: apical_dendrite.compartment.moments. Found extra marks: ['RequiresApical']\n",
      "2020-02-21 17:31:48,012 root         INFO     skipping feature: apical_dendrite.tip.moments. Found extra marks: ['RequiresApical']\n",
      "2020-02-21 17:31:48,013 root         INFO     skipping feature: basal_dendrite.normalized_depth_histogram. Found extra marks: ['RequiresLayeredPointDepths', 'RequiresReferenceLayerDepths']\n",
      "2020-02-21 17:31:48,014 root         INFO     skipping feature: apical_dendrite.normalized_depth_histogram. Found extra marks: ['RequiresLayeredPointDepths', 'RequiresApical', 'RequiresReferenceLayerDepths']\n",
      "2020-02-21 17:31:48,015 root         INFO     skipping feature: all_neurites.normalized_depth_histogram. Found extra marks: ['RequiresLayeredPointDepths', 'RequiresReferenceLayerDepths']\n",
      "2020-02-21 17:31:48,016 root         INFO     skipping feature: axon.normalized_depth_histogram. Found extra marks: ['RequiresLayeredPointDepths', 'RequiresReferenceLayerDepths']\n",
      "2020-02-21 17:31:48,018 root         INFO     skipping feature: dendrite.normalized_depth_histogram. Found extra marks: ['RequiresLayeredPointDepths', 'RequiresReferenceLayerDepths']\n",
      "2020-02-21 17:31:48,019 root         INFO     skipping feature: apical_dendrite.basal_dendrite.earth_movers_distance. Found extra marks: ['RequiresLayeredPointDepths', 'RequiresApical', 'RequiresReferenceLayerDepths']\n",
      "2020-02-21 17:31:48,020 root         INFO     skipping feature: dendrite.basal_dendrite.earth_movers_distance. Found extra marks: ['RequiresLayeredPointDepths', 'RequiresReferenceLayerDepths']\n",
      "2020-02-21 17:31:48,021 root         INFO     skipping feature: basal_dendrite.basal_dendrite.earth_movers_distance. Found extra marks: ['RequiresLayeredPointDepths', 'RequiresReferenceLayerDepths']\n",
      "2020-02-21 17:31:48,022 root         INFO     skipping feature: axon.basal_dendrite.earth_movers_distance. Found extra marks: ['RequiresLayeredPointDepths', 'RequiresReferenceLayerDepths']\n",
      "2020-02-21 17:31:48,023 root         INFO     skipping feature: apical_dendrite.axon.earth_movers_distance. Found extra marks: ['RequiresLayeredPointDepths', 'RequiresApical', 'RequiresReferenceLayerDepths']\n",
      "2020-02-21 17:31:48,024 root         INFO     skipping feature: dendrite.axon.earth_movers_distance. Found extra marks: ['RequiresLayeredPointDepths', 'RequiresReferenceLayerDepths']\n",
      "2020-02-21 17:31:48,025 root         INFO     skipping feature: basal_dendrite.axon.earth_movers_distance. Found extra marks: ['RequiresLayeredPointDepths', 'RequiresReferenceLayerDepths']\n",
      "2020-02-21 17:31:48,026 root         INFO     skipping feature: axon.axon.earth_movers_distance. Found extra marks: ['RequiresLayeredPointDepths', 'RequiresReferenceLayerDepths']\n",
      "2020-02-21 17:31:48,028 root         INFO     skipping feature: apical_dendrite.apical_dendrite.earth_movers_distance. Found extra marks: ['RequiresLayeredPointDepths', 'RequiresApical', 'RequiresReferenceLayerDepths']\n",
      "2020-02-21 17:31:48,029 root         INFO     skipping feature: dendrite.apical_dendrite.earth_movers_distance. Found extra marks: ['RequiresLayeredPointDepths', 'RequiresApical', 'RequiresReferenceLayerDepths']\n",
      "2020-02-21 17:31:48,030 root         INFO     skipping feature: basal_dendrite.apical_dendrite.earth_movers_distance. Found extra marks: ['RequiresLayeredPointDepths', 'RequiresApical', 'RequiresReferenceLayerDepths']\n",
      "2020-02-21 17:31:48,031 root         INFO     skipping feature: axon.apical_dendrite.earth_movers_distance. Found extra marks: ['RequiresLayeredPointDepths', 'RequiresApical', 'RequiresReferenceLayerDepths']\n",
      "2020-02-21 17:31:48,032 root         INFO     skipping feature: apical_dendrite.dendrite.earth_movers_distance. Found extra marks: ['RequiresLayeredPointDepths', 'RequiresApical', 'RequiresReferenceLayerDepths']\n",
      "2020-02-21 17:31:48,033 root         INFO     skipping feature: dendrite.dendrite.earth_movers_distance. Found extra marks: ['RequiresLayeredPointDepths', 'RequiresReferenceLayerDepths']\n"
     ]
    },
    {
     "name": "stderr",
     "output_type": "stream",
     "text": [
      "2020-02-21 17:31:48,034 root         INFO     skipping feature: basal_dendrite.dendrite.earth_movers_distance. Found extra marks: ['RequiresLayeredPointDepths', 'RequiresReferenceLayerDepths']\n",
      "2020-02-21 17:31:48,035 root         INFO     skipping feature: axon.dendrite.earth_movers_distance. Found extra marks: ['RequiresLayeredPointDepths', 'RequiresReferenceLayerDepths']\n",
      "2020-02-21 17:31:48,037 root         INFO     selected features: ['basal_dendrite.bifurcation.dimension', 'all_neurites.bifurcation.dimension', 'axon.bifurcation.dimension', 'dendrite.bifurcation.dimension', 'basal_dendrite.node.dimension', 'all_neurites.node.dimension', 'axon.node.dimension', 'dendrite.node.dimension', 'basal_dendrite.compartment.dimension', 'all_neurites.compartment.dimension', 'axon.compartment.dimension', 'dendrite.compartment.dimension', 'basal_dendrite.tip.dimension', 'all_neurites.tip.dimension', 'axon.tip.dimension', 'dendrite.tip.dimension', 'basal_dendrite.num_nodes', 'all_neurites.num_nodes', 'axon.num_nodes', 'dendrite.num_nodes', 'basal_dendrite.num_branches', 'all_neurites.num_branches', 'axon.num_branches', 'dendrite.num_branches', 'basal_dendrite.num_tips', 'all_neurites.num_tips', 'axon.num_tips', 'dendrite.num_tips', 'basal_dendrite.mean_fragmentation', 'all_neurites.mean_fragmentation', 'axon.mean_fragmentation', 'dendrite.mean_fragmentation', 'basal_dendrite.max_branch_order', 'all_neurites.max_branch_order', 'axon.max_branch_order', 'dendrite.max_branch_order', 'basal_dendrite.num_outer_bifurcations', 'all_neurites.num_outer_bifurcations', 'axon.num_outer_bifurcations', 'dendrite.num_outer_bifurcations', 'basal_dendrite.total_length', 'all_neurites.total_length', 'axon.total_length', 'dendrite.total_length', 'basal_dendrite.total_surface_area', 'all_neurites.total_surface_area', 'axon.total_surface_area', 'dendrite.total_surface_area', 'basal_dendrite.total_volume', 'all_neurites.total_volume', 'axon.total_volume', 'dendrite.total_volume', 'basal_dendrite.mean_diameter', 'all_neurites.mean_diameter', 'axon.mean_diameter', 'dendrite.mean_diameter', 'basal_dendrite.mean_parent_daughter_ratio', 'all_neurites.mean_parent_daughter_ratio', 'axon.mean_parent_daughter_ratio', 'dendrite.mean_parent_daughter_ratio', 'basal_dendrite.max_euclidean_distance', 'all_neurites.max_euclidean_distance', 'axon.max_euclidean_distance', 'dendrite.max_euclidean_distance', 'max_path_distance', 'early_branch_path', 'mean_contraction', 'dendrite.basal_dendrite.overlap', 'basal_dendrite.basal_dendrite.overlap', 'axon.basal_dendrite.overlap', 'dendrite.axon.overlap', 'basal_dendrite.axon.overlap', 'axon.axon.overlap', 'dendrite.dendrite.overlap', 'basal_dendrite.dendrite.overlap', 'axon.dendrite.overlap', 'basal_dendrite.bifurcation.moments', 'all_neurites.bifurcation.moments', 'axon.bifurcation.moments', 'dendrite.bifurcation.moments', 'basal_dendrite.node.moments', 'all_neurites.node.moments', 'axon.node.moments', 'dendrite.node.moments', 'basal_dendrite.compartment.moments', 'all_neurites.compartment.moments', 'axon.compartment.moments', 'dendrite.compartment.moments', 'basal_dendrite.tip.moments', 'all_neurites.tip.moments', 'axon.tip.moments', 'dendrite.tip.moments']\n",
      "/home/yangy/work/local/lib/python3.7/site-packages/numpy/core/fromnumeric.py:3584: RuntimeWarning: Degrees of freedom <= 0 for slice\n",
      "  **kwargs)\n",
      "/home/yangy/work/local/lib/python3.7/site-packages/numpy/core/_methods.py:207: RuntimeWarning: invalid value encountered in true_divide\n",
      "  ret, rcount, out=ret, casting='unsafe', subok=False)\n"
     ]
    }
   ],
   "source": [
    "feature_extraction_run = fe.extract(test_data)"
   ]
  },
  {
   "cell_type": "code",
   "execution_count": 10,
   "metadata": {},
   "outputs": [
    {
     "name": "stderr",
     "output_type": "stream",
     "text": [
      "../neuron_morphology/feature_extractor/feature_writer.py:54: H5pyDeprecationWarning: The default file mode will change to 'r' (read-only) in h5py 3.0. To suppress this warning, pass the mode you need to h5py.File(), or set the global default h5.get_config().default_file_mode, or set the environment variable H5PY_DEFAULT_READONLY=1. Available modes are: 'r', 'r+', 'w', 'w-'/'x', 'a'. See the docs for details.\n",
      "  self.heavy_file = h5py.File(self.heavy_path, driver=\"core\")\n",
      "2020-02-21 17:31:56,705 root         WARNING  writing additional outputs to csv. See output json for record of selected features and marks\n"
     ]
    }
   ],
   "source": [
    "heavy_path = \"test_features.h5\"\n",
    "table_path = \"test_features.csv\"\n",
    "\n",
    "features_writer = fw.FeatureWriter(heavy_path, table_path)\n",
    "features_writer.add_run(\"test\", feature_extraction_run.serialize())\n",
    "features_writer.write_table()"
   ]
  },
  {
   "cell_type": "code",
   "execution_count": 11,
   "metadata": {},
   "outputs": [
    {
     "name": "stdout",
     "output_type": "stream",
     "text": [
      "{'basal_dendrite.bifurcation.dimension': {'height': nan, 'width': nan, 'depth': nan, 'min_xyz': array([nan, nan, nan]), 'max_xyz': array([nan, nan, nan]), 'bias_xyz': array([nan, nan, nan])}, 'all_neurites.bifurcation.dimension': {'width': 0.0, 'height': 0.0, 'depth': 0.0, 'min_xyz': array([ 1430.775, -2821.925,  -381.9  ]), 'max_xyz': array([ 1430.775, -2821.925,  -381.9  ]), 'bias_xyz': array([0., 0., 0.])}, 'axon.bifurcation.dimension': {'width': 0.0, 'height': 0.0, 'depth': 0.0, 'min_xyz': array([ 1430.775, -2821.925,  -381.9  ]), 'max_xyz': array([ 1430.775, -2821.925,  -381.9  ]), 'bias_xyz': array([0., 0., 0.])}, 'dendrite.bifurcation.dimension': {'height': nan, 'width': nan, 'depth': nan, 'min_xyz': array([nan, nan, nan]), 'max_xyz': array([nan, nan, nan]), 'bias_xyz': array([nan, nan, nan])}, 'basal_dendrite.node.dimension': {'width': 222.4250000000011, 'height': 201.60000000000127, 'depth': 196.77500000000055, 'min_xyz': array([ 967.7  , -284.375,  -72.85 ]), 'max_xyz': array([1190.125,  -82.775,  123.925]), 'bias_xyz': array([222.425, 201.6  ,  51.075])}, 'all_neurites.node.dimension': {'width': 1967.175000000001, 'height': 3112.875, 'depth': 1416.8250000000003, 'min_xyz': array([ -194.125, -2929.8  , -1205.35 ]), 'max_xyz': array([1773.05 ,  183.075,  211.475]), 'bias_xyz': array([1578.925, 2746.725,  993.875])}, 'axon.node.dimension': {'width': 1967.175000000001, 'height': 3112.875, 'depth': 1416.8250000000003, 'min_xyz': array([ -194.125, -2929.8  , -1205.35 ]), 'max_xyz': array([1773.05 ,  183.075,  211.475]), 'bias_xyz': array([1578.925, 2746.725,  993.875])}, 'dendrite.node.dimension': {'width': 222.4250000000011, 'height': 201.60000000000127, 'depth': 196.77500000000055, 'min_xyz': array([ 967.7  , -284.375,  -72.85 ]), 'max_xyz': array([1190.125,  -82.775,  123.925]), 'bias_xyz': array([222.425, 201.6  ,  51.075])}, 'basal_dendrite.compartment.dimension': {'width': 1961.0125000000007, 'height': 3100.5875, 'depth': 1416.1375, 'min_xyz': array([ -194.1  , -2918.725, -1205.275]), 'max_xyz': array([1766.9125,  181.8625,  210.8625]), 'bias_xyz': array([1572.8125, 2736.8625,  994.4125])}, 'all_neurites.compartment.dimension': {'width': 1961.0125000000007, 'height': 3100.5875, 'depth': 1416.1375, 'min_xyz': array([ -194.1  , -2918.725, -1205.275]), 'max_xyz': array([1766.9125,  181.8625,  210.8625]), 'bias_xyz': array([1572.8125, 2736.8625,  994.4125])}, 'axon.compartment.dimension': {'width': 1961.0125000000007, 'height': 3100.5875, 'depth': 1416.1375, 'min_xyz': array([ -194.1  , -2918.725, -1205.275]), 'max_xyz': array([1766.9125,  181.8625,  210.8625]), 'bias_xyz': array([1572.8125, 2736.8625,  994.4125])}, 'dendrite.compartment.dimension': {'width': 1961.0125000000007, 'height': 3100.5875, 'depth': 1416.1375, 'min_xyz': array([ -194.1  , -2918.725, -1205.275]), 'max_xyz': array([1766.9125,  181.8625,  210.8625]), 'bias_xyz': array([1572.8125, 2736.8625,  994.4125])}, 'basal_dendrite.tip.dimension': {'width': 222.4250000000011, 'height': 201.60000000000127, 'depth': 196.77500000000055, 'min_xyz': array([ 967.7  , -284.375,  -72.85 ]), 'max_xyz': array([1190.125,  -82.775,  123.925]), 'bias_xyz': array([222.425, 201.6  ,  51.075])}, 'all_neurites.tip.dimension': {'width': 1871.8500000000004, 'height': 3010.35, 'depth': 521.1000000000004, 'min_xyz': array([  -98.8  , -2929.8  ,  -334.875]), 'max_xyz': array([1773.05 ,   80.55 ,  186.225]), 'bias_xyz': array([1674.25, 2849.25,  148.65])}, 'axon.tip.dimension': {'width': 1871.8500000000004, 'height': 3010.35, 'depth': 521.1000000000004, 'min_xyz': array([  -98.8  , -2929.8  ,  -334.875]), 'max_xyz': array([1773.05 ,   80.55 ,  186.225]), 'bias_xyz': array([1674.25, 2849.25,  148.65])}, 'dendrite.tip.dimension': {'width': 222.4250000000011, 'height': 201.60000000000127, 'depth': 196.77500000000055, 'min_xyz': array([ 967.7  , -284.375,  -72.85 ]), 'max_xyz': array([1190.125,  -82.775,  123.925]), 'bias_xyz': array([222.425, 201.6  ,  51.075])}, 'basal_dendrite.num_nodes': 940, 'all_neurites.num_nodes': 3397, 'axon.num_nodes': 2457, 'dendrite.num_nodes': 940, 'basal_dendrite.num_branches': 120, 'all_neurites.num_branches': 298, 'axon.num_branches': 188, 'dendrite.num_branches': 120, 'basal_dendrite.num_tips': 120, 'all_neurites.num_tips': 288, 'axon.num_tips': 168, 'dendrite.num_tips': 120, 'basal_dendrite.mean_fragmentation': nan, 'all_neurites.mean_fragmentation': 13.363636363636363, 'axon.mean_fragmentation': 13.363636363636363, 'dendrite.mean_fragmentation': nan, 'basal_dendrite.max_branch_order': 0, 'all_neurites.max_branch_order': 1, 'axon.max_branch_order': 1, 'dendrite.max_branch_order': 0, 'basal_dendrite.num_outer_bifurcations': 0, 'all_neurites.num_outer_bifurcations': 1, 'axon.num_outer_bifurcations': 1, 'dendrite.num_outer_bifurcations': 0, 'basal_dendrite.total_length': 5783.405108413997, 'all_neurites.total_length': 58506.67841514375, 'axon.total_length': 52625.804028268314, 'dendrite.total_length': 5783.405108413997, 'basal_dendrite.total_surface_area': 94071.25976294979, 'all_neurites.total_surface_area': 9985787.623293564, 'axon.total_surface_area': 9579146.373913605, 'dendrite.total_surface_area': 94071.25976294979, 'basal_dendrite.total_volume': 167938.1662966555, 'all_neurites.total_volume': 314879805.83762693, 'axon.total_volume': 313599343.47438955, 'dendrite.total_volume': 167938.1662966555, 'basal_dendrite.mean_diameter': 5.657425531914893, 'all_neurites.mean_diameter': 3.446305563732705, 'axon.mean_diameter': 2.6003744403744404, 'dendrite.mean_diameter': 5.657425531914893, 'basal_dendrite.mean_parent_daughter_ratio': 1.1261357028487287, 'all_neurites.mean_parent_daughter_ratio': 1.164540809843431, 'axon.mean_parent_daughter_ratio': 1.069155615684174, 'dendrite.mean_parent_daughter_ratio': 1.1261357028487287, 'basal_dendrite.max_euclidean_distance': 1211.8040386650814, 'all_neurites.max_euclidean_distance': 3361.3167542646147, 'axon.max_euclidean_distance': 3361.3167542646147, 'dendrite.max_euclidean_distance': 1211.8040386650814, 'max_path_distance': 21.373640081768457, 'early_branch_path': 126.61940837470773, 'mean_contraction': nan, 'dendrite.basal_dendrite.overlap': {'above': 0.0, 'overlap': 1.0, 'below': 0.0}, 'basal_dendrite.basal_dendrite.overlap': {'above': 0.0, 'overlap': 1.0, 'below': 0.0}, 'axon.basal_dendrite.overlap': {'above': 0.0, 'overlap': 1.0, 'below': 0.0}, 'dendrite.axon.overlap': {'above': 0.12698412698412698, 'overlap': 0.043142043142043174, 'below': 0.8298738298738298}, 'basal_dendrite.axon.overlap': {'above': 0.12698412698412698, 'overlap': 0.043142043142043174, 'below': 0.8298738298738298}, 'axon.axon.overlap': {'above': 0.0, 'overlap': 1.0, 'below': 0.0}, 'dendrite.dendrite.overlap': {'above': 0.0, 'overlap': 1.0, 'below': 0.0}, 'basal_dendrite.dendrite.overlap': {'above': 0.0, 'overlap': 1.0, 'below': 0.0}, 'axon.dendrite.overlap': {'above': 0.0, 'overlap': 1.0, 'below': 0.0}, 'basal_dendrite.bifurcation.moments': {'mean': array([nan, nan, nan]), 'std': array([nan, nan, nan]), 'var': array([nan, nan, nan]), 'skew': array([nan, nan, nan]), 'kurt': array([nan, nan, nan])}, 'all_neurites.bifurcation.moments': {'mean': array([8356.175,  770.775, 2811.8  ]), 'std': array([nan, nan, nan]), 'var': array([nan, nan, nan]), 'skew': array([0., 0., 0.]), 'kurt': array([-3., -3., -3.])}, 'axon.bifurcation.moments': {'mean': array([8356.175,  770.775, 2811.8  ]), 'std': array([nan, nan, nan]), 'var': array([nan, nan, nan]), 'skew': array([0., 0., 0.]), 'kurt': array([-3., -3., -3.])}, 'dendrite.bifurcation.moments': {'mean': array([nan, nan, nan]), 'std': array([nan, nan, nan]), 'var': array([nan, nan, nan]), 'skew': array([nan, nan, nan]), 'kurt': array([nan, nan, nan])}, 'basal_dendrite.node.moments': {'mean': array([7999.24949468, 3411.95343085, 3225.66901596]), 'std': array([44.23709914, 35.02212057, 30.29013021]), 'var': array([1956.92094024, 1226.54892924,  917.49198825]), 'skew': array([ 0.1546865 , -0.05942166, -0.21292968]), 'kurt': array([-0.47036937,  0.05793513,  0.88034967])}, 'all_neurites.node.moments': {'mean': array([8072.84496615, 2015.74404622, 3092.45785252]), 'std': array([ 468.99777657, 1221.73750626,  220.4534816 ]), 'var': array([ 219958.9144321 , 1492642.53420575,   48599.73754856]), 'skew': array([-1.5509887 ,  0.31003997, -2.97214089]), 'kurt': array([ 1.49009932, -1.8484696 , 10.5042191 ])}, 'axon.node.moments': {'mean': array([8101.00114978, 1481.58172568, 3041.49387464]), 'std': array([ 548.20694222, 1015.82980064,  239.70755287]), 'var': array([ 300530.85149883, 1031910.18386176,   57459.71090302]), 'skew': array([-1.49527364,  1.47332296, -2.62511503]), 'kurt': array([0.61720225, 0.32361422, 7.80559581])}, 'dendrite.node.moments': {'mean': array([7999.24949468, 3411.95343085, 3225.66901596]), 'std': array([44.23709914, 35.02212057, 30.29013021]), 'var': array([1956.92094024, 1226.54892924,  917.49198825]), 'skew': array([ 0.1546865 , -0.05942166, -0.21292968]), 'kurt': array([-0.47036937,  0.05793513,  0.88034967])}, 'basal_dendrite.compartment.moments': {'mean': array([8069.6266672 , 2000.73857406, 3086.42001844]), 'std': array([ 473.77518896, 1215.9774304 ,  227.44501885]), 'var': array([ 224462.9296778 , 1478601.11123752,   51731.23659756]), 'skew': array([-1.5288454 ,  0.33706217, -2.8771785 ]), 'kurt': array([ 1.37273427, -1.82318732,  9.65945273])}, 'all_neurites.compartment.moments': {'mean': array([8069.6266672 , 2000.73857406, 3086.42001844]), 'std': array([ 473.77518896, 1215.9774304 ,  227.44501885]), 'var': array([ 224462.9296778 , 1478601.11123752,   51731.23659756]), 'skew': array([-1.5288454 ,  0.33706217, -2.8771785 ]), 'kurt': array([ 1.37273427, -1.82318732,  9.65945273])}, 'axon.compartment.moments': {'mean': array([8069.6266672 , 2000.73857406, 3086.42001844]), 'std': array([ 473.77518896, 1215.9774304 ,  227.44501885]), 'var': array([ 224462.9296778 , 1478601.11123752,   51731.23659756]), 'skew': array([-1.5288454 ,  0.33706217, -2.8771785 ]), 'kurt': array([ 1.37273427, -1.82318732,  9.65945273])}, 'dendrite.compartment.moments': {'mean': array([8069.6266672 , 2000.73857406, 3086.42001844]), 'std': array([ 473.77518896, 1215.9774304 ,  227.44501885]), 'var': array([ 224462.9296778 , 1478601.11123752,   51731.23659756]), 'skew': array([-1.5288454 ,  0.33706217, -2.8771785 ]), 'kurt': array([ 1.37273427, -1.82318732,  9.65945273])}, 'basal_dendrite.tip.moments': {'mean': array([7997.3675    , 3414.51666667, 3226.43145833]), 'std': array([52.56819077, 39.6691716 , 37.12362643]), 'var': array([2763.41468067, 1573.64317577, 1378.16363966]), 'skew': array([ 0.222898  , -0.16289955, -0.32449636]), 'kurt': array([-0.43350803,  0.26320655,  0.74040533])}, 'all_neurites.tip.moments': {'mean': array([8104.9953125 , 2176.18967014, 3143.80651042]), 'std': array([ 402.17951182, 1257.05539965,  103.58876165]), 'var': array([ 161748.35972534, 1580188.27778709,   10730.63154065]), 'skew': array([-1.8482316 ,  0.02463708, -0.69200944]), 'kurt': array([ 3.50646481, -1.97772304, -0.24666095])}, 'axon.tip.moments': {'mean': array([8181.87232143, 1291.6703869 , 3084.78869048]), 'std': array([511.60186883, 908.61950055,  95.12999681]), 'var': array([261736.4721859 , 825589.39677874,   9049.71629348]), 'skew': array([-1.98926509,  2.14226974, -0.17188895]), 'kurt': array([ 2.3399557 ,  2.6810447 , -0.15078976])}, 'dendrite.tip.moments': {'mean': array([7997.3675    , 3414.51666667, 3226.43145833]), 'std': array([52.56819077, 39.6691716 , 37.12362643]), 'var': array([2763.41468067, 1573.64317577, 1378.16363966]), 'skew': array([ 0.222898  , -0.16289955, -0.32449636]), 'kurt': array([-0.43350803,  0.26320655,  0.74040533])}}\n"
     ]
    }
   ],
   "source": [
    "print(feature_extraction_run.results)"
   ]
  },
  {
   "cell_type": "code",
   "execution_count": null,
   "metadata": {},
   "outputs": [],
   "source": []
  }
 ],
 "metadata": {
  "kernelspec": {
   "display_name": "Python 3",
   "language": "python",
   "name": "python3"
  },
  "language_info": {
   "codemirror_mode": {
    "name": "ipython",
    "version": 3
   },
   "file_extension": ".py",
   "mimetype": "text/x-python",
   "name": "python",
   "nbconvert_exporter": "python",
   "pygments_lexer": "ipython3",
   "version": "3.7.3"
  }
 },
 "nbformat": 4,
 "nbformat_minor": 4
}
